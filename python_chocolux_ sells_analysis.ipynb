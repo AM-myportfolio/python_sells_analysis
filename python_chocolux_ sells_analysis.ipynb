{
 "cells": [
  {
   "cell_type": "markdown",
   "id": "cff20ac9-20c5-4e8a-b50e-3de62e276288",
   "metadata": {},
   "source": [
    "## <font color='#A52A2A' size= 180 > **CHOCOLUX**"
   ]
  },
  {
   "cell_type": "markdown",
   "id": "f7a39b85-6053-487d-8e36-7fbb257a6daa",
   "metadata": {},
   "source": [
    "## <font color='#000000'> **Examen Final - Python pour l'analyse de données**  "
   ]
  },
  {
   "cell_type": "markdown",
   "id": "242a79ab-c2c5-43ea-817f-e7435a7368c5",
   "metadata": {},
   "source": [
    " "
   ]
  },
  {
   "cell_type": "markdown",
   "id": "2c0c61bf-834e-45cf-ac7a-acf38d7bf4c3",
   "metadata": {},
   "source": [
    "## <font color=#A52A2A > **EXERCICE 1 - Nettoyage des données clients**"
   ]
  },
  {
   "cell_type": "markdown",
   "id": "a9c7c3cc-48df-44ca-83c4-3f5b5ea1508c",
   "metadata": {},
   "source": [
    "1-**Charger les données dans un dataframe, afficher les informations générales et examiner attentivement les données et repérer les problèmes potentiels (doublons, types incorrects, valeurs manquantes, incohérences…).**"
   ]
  },
  {
   "cell_type": "code",
   "execution_count": 122,
   "id": "1b0aea65-8232-40a8-ba98-721fdf3bdd19",
   "metadata": {},
   "outputs": [],
   "source": [
    "import pandas as pd\n",
    "import seaborn as sns\n",
    "import numpy as npy\n",
    "import matplotlib.pyplot as plt\n",
    "from datetime import datetime #j'importe les librairies qui me seront peut être utiles"
   ]
  },
  {
   "cell_type": "code",
   "execution_count": 124,
   "id": "a2d0b21e-515e-4b25-806b-39101a536d95",
   "metadata": {},
   "outputs": [],
   "source": [
    "df = pd.read_csv('ventes_chocolux.csv') #j'importe le fichier csv"
   ]
  },
  {
   "cell_type": "code",
   "execution_count": 126,
   "id": "b140be44-8fee-4889-a2a2-aa6a9910a036",
   "metadata": {},
   "outputs": [
    {
     "data": {
      "text/html": [
       "<div>\n",
       "<style scoped>\n",
       "    .dataframe tbody tr th:only-of-type {\n",
       "        vertical-align: middle;\n",
       "    }\n",
       "\n",
       "    .dataframe tbody tr th {\n",
       "        vertical-align: top;\n",
       "    }\n",
       "\n",
       "    .dataframe thead th {\n",
       "        text-align: right;\n",
       "    }\n",
       "</style>\n",
       "<table border=\"1\" class=\"dataframe\">\n",
       "  <thead>\n",
       "    <tr style=\"text-align: right;\">\n",
       "      <th></th>\n",
       "      <th>commande_id</th>\n",
       "      <th>client_id</th>\n",
       "      <th>nom_client</th>\n",
       "      <th>age</th>\n",
       "      <th>genre</th>\n",
       "      <th>ville</th>\n",
       "      <th>produit_id</th>\n",
       "      <th>nom_produit</th>\n",
       "      <th>type_chocolat</th>\n",
       "      <th>quantite</th>\n",
       "      <th>prix_unitaire</th>\n",
       "      <th>date_commande</th>\n",
       "      <th>remarques_clients</th>\n",
       "    </tr>\n",
       "  </thead>\n",
       "  <tbody>\n",
       "    <tr>\n",
       "      <th>0</th>\n",
       "      <td>CMD0001</td>\n",
       "      <td>C194</td>\n",
       "      <td>JOSEPH TORRES</td>\n",
       "      <td>24</td>\n",
       "      <td>M</td>\n",
       "      <td>toulouse</td>\n",
       "      <td>P001</td>\n",
       "      <td>Chocolux Noir 80%</td>\n",
       "      <td>noir</td>\n",
       "      <td>1</td>\n",
       "      <td>5.5</td>\n",
       "      <td>2024-12-30</td>\n",
       "      <td>NaN</td>\n",
       "    </tr>\n",
       "    <tr>\n",
       "      <th>1</th>\n",
       "      <td>CMD0002</td>\n",
       "      <td>C103</td>\n",
       "      <td>Laurence Jacques</td>\n",
       "      <td>53</td>\n",
       "      <td>M</td>\n",
       "      <td>Lille</td>\n",
       "      <td>P004</td>\n",
       "      <td>Chocolux Noir Fleur de Sel</td>\n",
       "      <td>noir</td>\n",
       "      <td>4</td>\n",
       "      <td>6.2</td>\n",
       "      <td>2025-03-19</td>\n",
       "      <td>NaN</td>\n",
       "    </tr>\n",
       "    <tr>\n",
       "      <th>2</th>\n",
       "      <td>CMD0003</td>\n",
       "      <td>C100</td>\n",
       "      <td>Matthieu Aubert</td>\n",
       "      <td>28</td>\n",
       "      <td>F</td>\n",
       "      <td>Lyon</td>\n",
       "      <td>P001</td>\n",
       "      <td>Chocolux Noir 80%</td>\n",
       "      <td>noir</td>\n",
       "      <td>3</td>\n",
       "      <td>5.5</td>\n",
       "      <td>2025-02-13</td>\n",
       "      <td>mauvais</td>\n",
       "    </tr>\n",
       "    <tr>\n",
       "      <th>3</th>\n",
       "      <td>CMD0004</td>\n",
       "      <td>C144</td>\n",
       "      <td>Alfred Nguyen</td>\n",
       "      <td>56</td>\n",
       "      <td>F</td>\n",
       "      <td>Nantes</td>\n",
       "      <td>P004</td>\n",
       "      <td>Chocolux Noir Fleur de Sel</td>\n",
       "      <td>noir</td>\n",
       "      <td>5</td>\n",
       "      <td>6.2</td>\n",
       "      <td>2025-02-13</td>\n",
       "      <td>NaN</td>\n",
       "    </tr>\n",
       "    <tr>\n",
       "      <th>4</th>\n",
       "      <td>CMD0005</td>\n",
       "      <td>C137</td>\n",
       "      <td>Constance Le Bonnet</td>\n",
       "      <td>58</td>\n",
       "      <td>F</td>\n",
       "      <td>Toulouse</td>\n",
       "      <td>P004</td>\n",
       "      <td>Chocolux Noir Fleur de Sel</td>\n",
       "      <td>noir</td>\n",
       "      <td>1</td>\n",
       "      <td>6.2</td>\n",
       "      <td>2025-03-03</td>\n",
       "      <td>NaN</td>\n",
       "    </tr>\n",
       "  </tbody>\n",
       "</table>\n",
       "</div>"
      ],
      "text/plain": [
       "  commande_id client_id           nom_client age genre     ville produit_id  \\\n",
       "0     CMD0001      C194        JOSEPH TORRES  24     M  toulouse       P001   \n",
       "1     CMD0002      C103     Laurence Jacques  53     M     Lille       P004   \n",
       "2     CMD0003      C100      Matthieu Aubert  28     F      Lyon       P001   \n",
       "3     CMD0004      C144        Alfred Nguyen  56     F    Nantes       P004   \n",
       "4     CMD0005      C137  Constance Le Bonnet  58     F  Toulouse       P004   \n",
       "\n",
       "                  nom_produit type_chocolat  quantite  prix_unitaire  \\\n",
       "0           Chocolux Noir 80%          noir         1            5.5   \n",
       "1  Chocolux Noir Fleur de Sel          noir         4            6.2   \n",
       "2           Chocolux Noir 80%          noir         3            5.5   \n",
       "3  Chocolux Noir Fleur de Sel          noir         5            6.2   \n",
       "4  Chocolux Noir Fleur de Sel          noir         1            6.2   \n",
       "\n",
       "  date_commande remarques_clients  \n",
       "0    2024-12-30               NaN  \n",
       "1    2025-03-19               NaN  \n",
       "2    2025-02-13           mauvais  \n",
       "3    2025-02-13               NaN  \n",
       "4    2025-03-03               NaN  "
      ]
     },
     "execution_count": 126,
     "metadata": {},
     "output_type": "execute_result"
    }
   ],
   "source": [
    "df.head() #je visualise les 5 premieres lignes du fichier afin d'étudier sa structure-je remarque directement que les ecritures ne sont pas uniformisées (majuscule, minuscule]\n",
    "#je vais donc uniformiser le tout en minuscule avec la premère lettre en majuscule pour la colonne nom_client"
   ]
  },
  {
   "cell_type": "code",
   "execution_count": 128,
   "id": "031d8ea7-4799-4a3c-9d26-d7fa7c4f3584",
   "metadata": {},
   "outputs": [],
   "source": [
    "df['nom_client'] = df['nom_client'].str.title() #j'ai utilser la méthode str.title afin de garantir que les apostrophes en milieu de nom soient prise en compte s'il y en a\n",
    "df['ville'] = df['ville'].str.title()\n",
    "df['nom_produit'] = df['nom_produit'].str.title()\n",
    "df['type_chocolat'] = df['type_chocolat'].str.lower()\n",
    "#je fais la même chose avec les autres colonne en chaîne de caractère en les mettant en majuscules ou minuscule selon le tableau et les données\n",
    "df['commande_id'] = df['commande_id'].str.upper()\n",
    "df['client_id'] = df['client_id'].str.upper()\n",
    "df['produit_id'] = df['produit_id'].str.upper()\n",
    "df['remarques_clients'] = df['remarques_clients'].str.lower()"
   ]
  },
  {
   "cell_type": "code",
   "execution_count": 130,
   "id": "200ce23e-3f3e-499c-a099-9bb13a8a1342",
   "metadata": {},
   "outputs": [
    {
     "data": {
      "text/html": [
       "<div>\n",
       "<style scoped>\n",
       "    .dataframe tbody tr th:only-of-type {\n",
       "        vertical-align: middle;\n",
       "    }\n",
       "\n",
       "    .dataframe tbody tr th {\n",
       "        vertical-align: top;\n",
       "    }\n",
       "\n",
       "    .dataframe thead th {\n",
       "        text-align: right;\n",
       "    }\n",
       "</style>\n",
       "<table border=\"1\" class=\"dataframe\">\n",
       "  <thead>\n",
       "    <tr style=\"text-align: right;\">\n",
       "      <th></th>\n",
       "      <th>commande_id</th>\n",
       "      <th>client_id</th>\n",
       "      <th>nom_client</th>\n",
       "      <th>age</th>\n",
       "      <th>genre</th>\n",
       "      <th>ville</th>\n",
       "      <th>produit_id</th>\n",
       "      <th>nom_produit</th>\n",
       "      <th>type_chocolat</th>\n",
       "      <th>quantite</th>\n",
       "      <th>prix_unitaire</th>\n",
       "      <th>date_commande</th>\n",
       "      <th>remarques_clients</th>\n",
       "    </tr>\n",
       "  </thead>\n",
       "  <tbody>\n",
       "    <tr>\n",
       "      <th>0</th>\n",
       "      <td>CMD0001</td>\n",
       "      <td>C194</td>\n",
       "      <td>Joseph Torres</td>\n",
       "      <td>24</td>\n",
       "      <td>M</td>\n",
       "      <td>Toulouse</td>\n",
       "      <td>P001</td>\n",
       "      <td>Chocolux Noir 80%</td>\n",
       "      <td>noir</td>\n",
       "      <td>1</td>\n",
       "      <td>5.5</td>\n",
       "      <td>2024-12-30</td>\n",
       "      <td>NaN</td>\n",
       "    </tr>\n",
       "    <tr>\n",
       "      <th>1</th>\n",
       "      <td>CMD0002</td>\n",
       "      <td>C103</td>\n",
       "      <td>Laurence Jacques</td>\n",
       "      <td>53</td>\n",
       "      <td>M</td>\n",
       "      <td>Lille</td>\n",
       "      <td>P004</td>\n",
       "      <td>Chocolux Noir Fleur De Sel</td>\n",
       "      <td>noir</td>\n",
       "      <td>4</td>\n",
       "      <td>6.2</td>\n",
       "      <td>2025-03-19</td>\n",
       "      <td>NaN</td>\n",
       "    </tr>\n",
       "    <tr>\n",
       "      <th>2</th>\n",
       "      <td>CMD0003</td>\n",
       "      <td>C100</td>\n",
       "      <td>Matthieu Aubert</td>\n",
       "      <td>28</td>\n",
       "      <td>F</td>\n",
       "      <td>Lyon</td>\n",
       "      <td>P001</td>\n",
       "      <td>Chocolux Noir 80%</td>\n",
       "      <td>noir</td>\n",
       "      <td>3</td>\n",
       "      <td>5.5</td>\n",
       "      <td>2025-02-13</td>\n",
       "      <td>mauvais</td>\n",
       "    </tr>\n",
       "    <tr>\n",
       "      <th>3</th>\n",
       "      <td>CMD0004</td>\n",
       "      <td>C144</td>\n",
       "      <td>Alfred Nguyen</td>\n",
       "      <td>56</td>\n",
       "      <td>F</td>\n",
       "      <td>Nantes</td>\n",
       "      <td>P004</td>\n",
       "      <td>Chocolux Noir Fleur De Sel</td>\n",
       "      <td>noir</td>\n",
       "      <td>5</td>\n",
       "      <td>6.2</td>\n",
       "      <td>2025-02-13</td>\n",
       "      <td>NaN</td>\n",
       "    </tr>\n",
       "    <tr>\n",
       "      <th>4</th>\n",
       "      <td>CMD0005</td>\n",
       "      <td>C137</td>\n",
       "      <td>Constance Le Bonnet</td>\n",
       "      <td>58</td>\n",
       "      <td>F</td>\n",
       "      <td>Toulouse</td>\n",
       "      <td>P004</td>\n",
       "      <td>Chocolux Noir Fleur De Sel</td>\n",
       "      <td>noir</td>\n",
       "      <td>1</td>\n",
       "      <td>6.2</td>\n",
       "      <td>2025-03-03</td>\n",
       "      <td>NaN</td>\n",
       "    </tr>\n",
       "  </tbody>\n",
       "</table>\n",
       "</div>"
      ],
      "text/plain": [
       "  commande_id client_id           nom_client age genre     ville produit_id  \\\n",
       "0     CMD0001      C194        Joseph Torres  24     M  Toulouse       P001   \n",
       "1     CMD0002      C103     Laurence Jacques  53     M     Lille       P004   \n",
       "2     CMD0003      C100      Matthieu Aubert  28     F      Lyon       P001   \n",
       "3     CMD0004      C144        Alfred Nguyen  56     F    Nantes       P004   \n",
       "4     CMD0005      C137  Constance Le Bonnet  58     F  Toulouse       P004   \n",
       "\n",
       "                  nom_produit type_chocolat  quantite  prix_unitaire  \\\n",
       "0           Chocolux Noir 80%          noir         1            5.5   \n",
       "1  Chocolux Noir Fleur De Sel          noir         4            6.2   \n",
       "2           Chocolux Noir 80%          noir         3            5.5   \n",
       "3  Chocolux Noir Fleur De Sel          noir         5            6.2   \n",
       "4  Chocolux Noir Fleur De Sel          noir         1            6.2   \n",
       "\n",
       "  date_commande remarques_clients  \n",
       "0    2024-12-30               NaN  \n",
       "1    2025-03-19               NaN  \n",
       "2    2025-02-13           mauvais  \n",
       "3    2025-02-13               NaN  \n",
       "4    2025-03-03               NaN  "
      ]
     },
     "execution_count": 130,
     "metadata": {},
     "output_type": "execute_result"
    }
   ],
   "source": [
    "df.head() #je vérifie que cela a bien été pris en compte"
   ]
  },
  {
   "cell_type": "code",
   "execution_count": 132,
   "id": "975a5ba0-58dc-402d-8ded-db2a52a5815f",
   "metadata": {},
   "outputs": [
    {
     "data": {
      "text/html": [
       "<div>\n",
       "<style scoped>\n",
       "    .dataframe tbody tr th:only-of-type {\n",
       "        vertical-align: middle;\n",
       "    }\n",
       "\n",
       "    .dataframe tbody tr th {\n",
       "        vertical-align: top;\n",
       "    }\n",
       "\n",
       "    .dataframe thead th {\n",
       "        text-align: right;\n",
       "    }\n",
       "</style>\n",
       "<table border=\"1\" class=\"dataframe\">\n",
       "  <thead>\n",
       "    <tr style=\"text-align: right;\">\n",
       "      <th></th>\n",
       "      <th>commande_id</th>\n",
       "      <th>client_id</th>\n",
       "      <th>nom_client</th>\n",
       "      <th>age</th>\n",
       "      <th>genre</th>\n",
       "      <th>ville</th>\n",
       "      <th>produit_id</th>\n",
       "      <th>nom_produit</th>\n",
       "      <th>type_chocolat</th>\n",
       "      <th>quantite</th>\n",
       "      <th>prix_unitaire</th>\n",
       "      <th>date_commande</th>\n",
       "      <th>remarques_clients</th>\n",
       "    </tr>\n",
       "  </thead>\n",
       "  <tbody>\n",
       "    <tr>\n",
       "      <th>0</th>\n",
       "      <td>CMD0001</td>\n",
       "      <td>C194</td>\n",
       "      <td>Joseph Torres</td>\n",
       "      <td>24</td>\n",
       "      <td>M</td>\n",
       "      <td>Toulouse</td>\n",
       "      <td>P001</td>\n",
       "      <td>Chocolux Noir 80%</td>\n",
       "      <td>noir</td>\n",
       "      <td>1</td>\n",
       "      <td>5.5</td>\n",
       "      <td>2024-12-30</td>\n",
       "      <td>NaN</td>\n",
       "    </tr>\n",
       "    <tr>\n",
       "      <th>1</th>\n",
       "      <td>CMD0002</td>\n",
       "      <td>C103</td>\n",
       "      <td>Laurence Jacques</td>\n",
       "      <td>53</td>\n",
       "      <td>M</td>\n",
       "      <td>Lille</td>\n",
       "      <td>P004</td>\n",
       "      <td>Chocolux Noir Fleur De Sel</td>\n",
       "      <td>noir</td>\n",
       "      <td>4</td>\n",
       "      <td>6.2</td>\n",
       "      <td>2025-03-19</td>\n",
       "      <td>NaN</td>\n",
       "    </tr>\n",
       "    <tr>\n",
       "      <th>2</th>\n",
       "      <td>CMD0003</td>\n",
       "      <td>C100</td>\n",
       "      <td>Matthieu Aubert</td>\n",
       "      <td>28</td>\n",
       "      <td>F</td>\n",
       "      <td>Lyon</td>\n",
       "      <td>P001</td>\n",
       "      <td>Chocolux Noir 80%</td>\n",
       "      <td>noir</td>\n",
       "      <td>3</td>\n",
       "      <td>5.5</td>\n",
       "      <td>2025-02-13</td>\n",
       "      <td>mauvais</td>\n",
       "    </tr>\n",
       "    <tr>\n",
       "      <th>3</th>\n",
       "      <td>CMD0004</td>\n",
       "      <td>C144</td>\n",
       "      <td>Alfred Nguyen</td>\n",
       "      <td>56</td>\n",
       "      <td>F</td>\n",
       "      <td>Nantes</td>\n",
       "      <td>P004</td>\n",
       "      <td>Chocolux Noir Fleur De Sel</td>\n",
       "      <td>noir</td>\n",
       "      <td>5</td>\n",
       "      <td>6.2</td>\n",
       "      <td>2025-02-13</td>\n",
       "      <td>NaN</td>\n",
       "    </tr>\n",
       "    <tr>\n",
       "      <th>4</th>\n",
       "      <td>CMD0005</td>\n",
       "      <td>C137</td>\n",
       "      <td>Constance Le Bonnet</td>\n",
       "      <td>58</td>\n",
       "      <td>F</td>\n",
       "      <td>Toulouse</td>\n",
       "      <td>P004</td>\n",
       "      <td>Chocolux Noir Fleur De Sel</td>\n",
       "      <td>noir</td>\n",
       "      <td>1</td>\n",
       "      <td>6.2</td>\n",
       "      <td>2025-03-03</td>\n",
       "      <td>NaN</td>\n",
       "    </tr>\n",
       "  </tbody>\n",
       "</table>\n",
       "</div>"
      ],
      "text/plain": [
       "  commande_id client_id           nom_client age genre     ville produit_id  \\\n",
       "0     CMD0001      C194        Joseph Torres  24     M  Toulouse       P001   \n",
       "1     CMD0002      C103     Laurence Jacques  53     M     Lille       P004   \n",
       "2     CMD0003      C100      Matthieu Aubert  28     F      Lyon       P001   \n",
       "3     CMD0004      C144        Alfred Nguyen  56     F    Nantes       P004   \n",
       "4     CMD0005      C137  Constance Le Bonnet  58     F  Toulouse       P004   \n",
       "\n",
       "                  nom_produit type_chocolat  quantite  prix_unitaire  \\\n",
       "0           Chocolux Noir 80%          noir         1            5.5   \n",
       "1  Chocolux Noir Fleur De Sel          noir         4            6.2   \n",
       "2           Chocolux Noir 80%          noir         3            5.5   \n",
       "3  Chocolux Noir Fleur De Sel          noir         5            6.2   \n",
       "4  Chocolux Noir Fleur De Sel          noir         1            6.2   \n",
       "\n",
       "  date_commande remarques_clients  \n",
       "0    2024-12-30               NaN  \n",
       "1    2025-03-19               NaN  \n",
       "2    2025-02-13           mauvais  \n",
       "3    2025-02-13               NaN  \n",
       "4    2025-03-03               NaN  "
      ]
     },
     "execution_count": 132,
     "metadata": {},
     "output_type": "execute_result"
    }
   ],
   "source": [
    "# je vais ensuite supprimer les espaces dans les lignes pour chaque colonnes-ne connaissant que la méthode de suppression ligne par ligne, je demande à chat gpts'il existe une methode plus simple\n",
    "#pour l'appliquer directement à l ensemble du tableau\n",
    "df = df.apply(lambda col: col.map(lambda x: x.strip() if isinstance(x, str) else x)) # Suppression des espaces en début et fin de chaque cellule du DataFrame\n",
    "df.head() #je vérifie"
   ]
  },
  {
   "cell_type": "code",
   "execution_count": 134,
   "id": "ea311773-c758-4f52-9ad0-aa78f451c0a7",
   "metadata": {},
   "outputs": [
    {
     "name": "stdout",
     "output_type": "stream",
     "text": [
      "21\n"
     ]
    }
   ],
   "source": [
    "#je compte le nombre de doublons par rapport à la colonne idcommande car il se peut qu un client ai passé plusieurs commande.\n",
    "#'est donc la colonne la plus pertinente pour trouver les doublons\n",
    "nb_doublons_commandes = df.duplicated(subset=[\"commande_id\"]).sum()  \n",
    "print(nb_doublons_commandes) #il ya 21 doublons"
   ]
  },
  {
   "cell_type": "code",
   "execution_count": 136,
   "id": "16c3d96a-c348-4e79-87fa-95e35b1ebce0",
   "metadata": {},
   "outputs": [
    {
     "name": "stdout",
     "output_type": "stream",
     "text": [
      "    commande_id client_id                nom_client          age genre  \\\n",
      "360     CMD0360      C106           Susanne Bonneau           33     F   \n",
      "501     CMD0362      C160           Vincent Rivière           22     M   \n",
      "502     CMD0461      C145     Alex Berthelot-Menard           30     M   \n",
      "503     CMD0370      C165           Camille Lacombe           41     M   \n",
      "504     CMD0459      C164    Adèle Clément De Petit           55     F   \n",
      "505     CMD0486      C142          Timothée Martins           53     F   \n",
      "506     CMD0009      C140       Chantal De La Hamel           43     F   \n",
      "507     CMD0235      C165          Brigitte Perrier           52     F   \n",
      "508     CMD0458      C102        Stéphane Fernandez           61     M   \n",
      "509     CMD0143      C165  Constance Buisson-Collin           55     M   \n",
      "510     CMD0143      C165  Constance Buisson-Collin           55     M   \n",
      "511     CMD0269      C159              Aimée Bailly           61     F   \n",
      "512     CMD0178      C148               Nicolas Gay           59     F   \n",
      "513     CMD0227      C165     Léon Auger Du Pereira  trente-deux     F   \n",
      "514     CMD0044      C152           Alphonse Renaud           57     M   \n",
      "515     CMD0179      C102           Timothée Thomas           41     F   \n",
      "516     CMD0179      C102           Timothée Thomas           41     F   \n",
      "517     CMD0474      C143             Marcel Dupuis           29     M   \n",
      "518     CMD0239      C102          Caroline Barbier           46     F   \n",
      "519     CMD0361      C140            Benoît Poirier           26     F   \n",
      "520     CMD0443      C179           Bernard Carlier           43     M   \n",
      "\n",
      "         ville produit_id                 nom_produit type_chocolat  quantite  \\\n",
      "360  Marseille       P001           Chocolux Noir 80%          noir         5   \n",
      "501   Toulouse       P001           Chocolux Noir 80%          noir         2   \n",
      "502   Bordeaux       P005       Chocolux Lait Caramel          lait         4   \n",
      "503  Marseille       P002     Chocolux Lait Noisettes          lait         3   \n",
      "504      Paris       P004  Chocolux Noir Fleur De Sel          noir         3   \n",
      "505      Lille       P002     Chocolux Lait Noisettes          lait         4   \n",
      "506      Paris       P005       Chocolux Lait Caramel          lait         5   \n",
      "507      Lille       P001           Chocolux Noir 80%          noir         1   \n",
      "508       Nice       P001           Chocolux Noir 80%          noir         3   \n",
      "509  Marseille       P001           Chocolux Noir 80%          noir         5   \n",
      "510  Marseille       P001           Chocolux Noir 80%          noir         5   \n",
      "511   Toulouse       P004  Chocolux Noir Fleur De Sel          noir         2   \n",
      "512     Nantes       P003      Chocolux Blanc Vanille         blanc         5   \n",
      "513     Nantes       P002     Chocolux Lait Noisettes          lait         1   \n",
      "514   Bordeaux       P001           Chocolux Noir 80%          noir         2   \n",
      "515      Paris       P001           Chocolux Noir 80%          noir         4   \n",
      "516      Paris       P001           Chocolux Noir 80%          noir         4   \n",
      "517  Marseille       P005       Chocolux Lait Caramel          lait         3   \n",
      "518  Marseille       P002     Chocolux Lait Noisettes          lait         2   \n",
      "519     Nantes       P002     Chocolux Lait Noisettes          lait         3   \n",
      "520      Paris       P005       Chocolux Lait Caramel          lait         3   \n",
      "\n",
      "     prix_unitaire date_commande remarques_clients  \n",
      "360            5.5    2025-02-10               NaN  \n",
      "501            5.5    2025-02-10               NaN  \n",
      "502            5.0    2025-02-11               NaN  \n",
      "503            4.8    2025-01-05               NaN  \n",
      "504            6.2    2024-12-14               NaN  \n",
      "505            4.8    2025-02-11           mauvais  \n",
      "506            5.0    2025-03-09               NaN  \n",
      "507            5.5    2025-02-21               NaN  \n",
      "508            5.5    2025-01-13             fondu  \n",
      "509            5.5    2025-02-14               NaN  \n",
      "510            5.5    2025-02-14               NaN  \n",
      "511            6.2    2025-02-09               NaN  \n",
      "512            4.5    2025-02-13               NaN  \n",
      "513            4.8    2024-12-17               NaN  \n",
      "514            5.5    2025-02-16               NaN  \n",
      "515            5.5    2025-03-19               NaN  \n",
      "516            5.5    2025-03-19               NaN  \n",
      "517            5.0    2025-01-05               NaN  \n",
      "518            4.8    2025-01-07               NaN  \n",
      "519            4.8    2025-02-13               NaN  \n",
      "520            5.0    2025-03-12               NaN  \n"
     ]
    }
   ],
   "source": [
    "doublons_commandes = df[df.duplicated(subset=[\"commande_id\"])]\n",
    "print(doublons_commandes) #j'affiche les doublons de la colonne commande id"
   ]
  },
  {
   "cell_type": "code",
   "execution_count": 138,
   "id": "7dafee44-248d-4878-8853-c6e52656d9e6",
   "metadata": {},
   "outputs": [],
   "source": [
    "#je supprime les doublons\n",
    "df = df.drop_duplicates(subset=[\"commande_id\"])"
   ]
  },
  {
   "cell_type": "markdown",
   "id": "4614efcd-40c7-41d8-b530-759ec673f088",
   "metadata": {},
   "source": [
    "**INFOS COLONNES**"
   ]
  },
  {
   "cell_type": "code",
   "execution_count": 141,
   "id": "4947269e-6d14-40a2-b4d9-d53fd98987ee",
   "metadata": {},
   "outputs": [
    {
     "name": "stdout",
     "output_type": "stream",
     "text": [
      "<class 'pandas.core.frame.DataFrame'>\n",
      "Index: 500 entries, 0 to 500\n",
      "Data columns (total 13 columns):\n",
      " #   Column             Non-Null Count  Dtype  \n",
      "---  ------             --------------  -----  \n",
      " 0   commande_id        500 non-null    object \n",
      " 1   client_id          500 non-null    object \n",
      " 2   nom_client         500 non-null    object \n",
      " 3   age                500 non-null    object \n",
      " 4   genre              500 non-null    object \n",
      " 5   ville              485 non-null    object \n",
      " 6   produit_id         500 non-null    object \n",
      " 7   nom_produit        500 non-null    object \n",
      " 8   type_chocolat      500 non-null    object \n",
      " 9   quantite           500 non-null    int64  \n",
      " 10  prix_unitaire      500 non-null    float64\n",
      " 11  date_commande      500 non-null    object \n",
      " 12  remarques_clients  47 non-null     object \n",
      "dtypes: float64(1), int64(1), object(11)\n",
      "memory usage: 54.7+ KB\n"
     ]
    }
   ],
   "source": [
    "df.info() #j'utilise le .info pour voir les données générales de la structure du tableau mais je vais les evelopper point par point en dessous pour éviter de me répéter sur\n",
    "#le type de colonne, leur nombre le nombre de ligne. la ligne 'RangeIndex: 521 entries, 0 to 520' montre comment est considéré la première ligne du tableau (index)\n",
    "#Ile ne manque des données que sur les colonnes : ville et remarque client"
   ]
  },
  {
   "cell_type": "code",
   "execution_count": 143,
   "id": "b51729b4-4fb9-4d41-a2fc-9c13668c3fcf",
   "metadata": {},
   "outputs": [
    {
     "data": {
      "text/plain": [
       "(500, 13)"
      ]
     },
     "execution_count": 143,
     "metadata": {},
     "output_type": "execute_result"
    }
   ],
   "source": [
    "df.shape #le tableau contient 521 lignes et 13 colonnes)"
   ]
  },
  {
   "cell_type": "code",
   "execution_count": 145,
   "id": "0c0a724d-76f3-43e3-8782-3839d7ebe4f8",
   "metadata": {},
   "outputs": [
    {
     "data": {
      "text/plain": [
       "array(['24', '53', '28', '56', '58', '32', '35', '62', '43', '49', '52',\n",
       "       '50', '45', '61', '51', '33', '59', '55', '22', '48', '21', '26',\n",
       "       '42', '60', '38', '29', '31', '18', '40', '57', '19', '64', '30',\n",
       "       '46', '27', '47', '63', '34', '20', '39', '23', '36',\n",
       "       'trente-deux', '41', '25', '65', '37', '44', '54'], dtype=object)"
      ]
     },
     "execution_count": 145,
     "metadata": {},
     "output_type": "execute_result"
    }
   ],
   "source": [
    "#cette ligne a été rajouté par la suite afin de vérifier pourquoi la colonne age est ressortie avec des données manquantes suite à sa conversion en numérique.\n",
    "modalites_unique_age = df['age'].unique()\n",
    "modalites_unique_age #cela permet de voir qu'effectivement il y a des données en toute lettres d'où l anomalie après conversion en numerique\n",
    "# je vais donc remplacer trente deux par 32 avant la conversion en numerique"
   ]
  },
  {
   "cell_type": "code",
   "execution_count": 147,
   "id": "df7f2e8c-dd14-4f3f-8b62-ddb85240eca7",
   "metadata": {},
   "outputs": [],
   "source": [
    "df['age'] = df['age'].replace('trente-deux','32') "
   ]
  },
  {
   "cell_type": "markdown",
   "id": "cddae615-0abd-4111-82b8-c8687ee42458",
   "metadata": {},
   "source": [
    "**NETTOYAGE DES TYPES DE COLONNES**"
   ]
  },
  {
   "cell_type": "markdown",
   "id": "342669d1-4f59-4406-a5e7-79b4ef17bf1c",
   "metadata": {},
   "source": [
    " "
   ]
  },
  {
   "cell_type": "code",
   "execution_count": 151,
   "id": "61a1ba59-a8d1-4de7-9d71-8b770dfefe8c",
   "metadata": {},
   "outputs": [
    {
     "data": {
      "text/plain": [
       "commande_id           object\n",
       "client_id             object\n",
       "nom_client            object\n",
       "age                   object\n",
       "genre                 object\n",
       "ville                 object\n",
       "produit_id            object\n",
       "nom_produit           object\n",
       "type_chocolat         object\n",
       "quantite               int64\n",
       "prix_unitaire        float64\n",
       "date_commande         object\n",
       "remarques_clients     object\n",
       "dtype: object"
      ]
     },
     "execution_count": 151,
     "metadata": {},
     "output_type": "execute_result"
    }
   ],
   "source": [
    "df.dtypes #j'analyse le type de chaque colonne afin de vérifier qu'il soit adapté"
   ]
  },
  {
   "cell_type": "code",
   "execution_count": 153,
   "id": "8fe34a16-e243-41e2-9d9d-526c233fbbf6",
   "metadata": {},
   "outputs": [],
   "source": [
    "# la colonne âge ne faisant référence qu'a des nombres devrait être en integer ou float/le genre est en objet (chaîne de caratère) mais il sera peut être judicieux de le changer en type catégorie par la suite\n",
    "#idem pour les colonnes type de chocolat et ville, il sera peut être judicieux d'en changer le type en catégorie.\n",
    "#la colonne date commande doit être changé en type date. je vais procéder au changement de type des colonne date commande et age avant de continuer- \n",
    "#je changerai aussi les colonnes type chocolat,ville et genre en catégorie."
   ]
  },
  {
   "cell_type": "code",
   "execution_count": 155,
   "id": "dbf3247f-e51e-466d-bf05-3ea6bea0f9e9",
   "metadata": {},
   "outputs": [
    {
     "data": {
      "text/plain": [
       "commande_id                  object\n",
       "client_id                    object\n",
       "nom_client                   object\n",
       "age                           int64\n",
       "genre                      category\n",
       "ville                      category\n",
       "produit_id                   object\n",
       "nom_produit                  object\n",
       "type_chocolat              category\n",
       "quantite                      int64\n",
       "prix_unitaire               float64\n",
       "date_commande        datetime64[ns]\n",
       "remarques_clients            object\n",
       "dtype: object"
      ]
     },
     "execution_count": 155,
     "metadata": {},
     "output_type": "execute_result"
    }
   ],
   "source": [
    "df['age'] = pd.to_numeric(df['age'], errors='coerce') #je change le type de la colonne age en numeric \n",
    "df['date_commande'] = pd.to_datetime(df['date_commande'], errors='coerce', format='%Y-%m-%d') # je change le type de la colonne date_commande en formatdate et respectant le format de base\n",
    "df['genre'] = df['genre'].astype('category')\n",
    "df['ville'] = df['ville'].astype('category')\n",
    "df['type_chocolat'] = df['type_chocolat'].astype('category') #je change le type des colonnes genre et type chocolat en categorie et je verifie les changements\n",
    "df.dtypes"
   ]
  },
  {
   "cell_type": "markdown",
   "id": "9b9dd49e-0c38-4cd7-ad33-64b339e25b01",
   "metadata": {},
   "source": [
    " "
   ]
  },
  {
   "cell_type": "markdown",
   "id": "d2d33ef6-a8c2-4e92-9f53-a8c7b564780c",
   "metadata": {},
   "source": [
    "**ETUDE DES DONNEES STATISTIQUES**"
   ]
  },
  {
   "cell_type": "code",
   "execution_count": 159,
   "id": "59e26dac-fcc5-4886-b181-e5f6dc7cf100",
   "metadata": {},
   "outputs": [
    {
     "data": {
      "text/html": [
       "<div>\n",
       "<style scoped>\n",
       "    .dataframe tbody tr th:only-of-type {\n",
       "        vertical-align: middle;\n",
       "    }\n",
       "\n",
       "    .dataframe tbody tr th {\n",
       "        vertical-align: top;\n",
       "    }\n",
       "\n",
       "    .dataframe thead th {\n",
       "        text-align: right;\n",
       "    }\n",
       "</style>\n",
       "<table border=\"1\" class=\"dataframe\">\n",
       "  <thead>\n",
       "    <tr style=\"text-align: right;\">\n",
       "      <th></th>\n",
       "      <th>age</th>\n",
       "      <th>quantite</th>\n",
       "      <th>prix_unitaire</th>\n",
       "    </tr>\n",
       "  </thead>\n",
       "  <tbody>\n",
       "    <tr>\n",
       "      <th>count</th>\n",
       "      <td>500.00</td>\n",
       "      <td>500.00</td>\n",
       "      <td>500.00</td>\n",
       "    </tr>\n",
       "    <tr>\n",
       "      <th>mean</th>\n",
       "      <td>41.60</td>\n",
       "      <td>2.95</td>\n",
       "      <td>5.22</td>\n",
       "    </tr>\n",
       "    <tr>\n",
       "      <th>std</th>\n",
       "      <td>14.02</td>\n",
       "      <td>1.42</td>\n",
       "      <td>0.56</td>\n",
       "    </tr>\n",
       "    <tr>\n",
       "      <th>min</th>\n",
       "      <td>18.00</td>\n",
       "      <td>1.00</td>\n",
       "      <td>4.50</td>\n",
       "    </tr>\n",
       "    <tr>\n",
       "      <th>25%</th>\n",
       "      <td>29.00</td>\n",
       "      <td>2.00</td>\n",
       "      <td>4.80</td>\n",
       "    </tr>\n",
       "    <tr>\n",
       "      <th>50%</th>\n",
       "      <td>42.00</td>\n",
       "      <td>3.00</td>\n",
       "      <td>5.00</td>\n",
       "    </tr>\n",
       "    <tr>\n",
       "      <th>75%</th>\n",
       "      <td>53.00</td>\n",
       "      <td>4.00</td>\n",
       "      <td>5.50</td>\n",
       "    </tr>\n",
       "    <tr>\n",
       "      <th>max</th>\n",
       "      <td>65.00</td>\n",
       "      <td>5.00</td>\n",
       "      <td>6.20</td>\n",
       "    </tr>\n",
       "  </tbody>\n",
       "</table>\n",
       "</div>"
      ],
      "text/plain": [
       "          age  quantite  prix_unitaire\n",
       "count  500.00    500.00         500.00\n",
       "mean    41.60      2.95           5.22\n",
       "std     14.02      1.42           0.56\n",
       "min     18.00      1.00           4.50\n",
       "25%     29.00      2.00           4.80\n",
       "50%     42.00      3.00           5.00\n",
       "75%     53.00      4.00           5.50\n",
       "max     65.00      5.00           6.20"
      ]
     },
     "execution_count": 159,
     "metadata": {},
     "output_type": "execute_result"
    }
   ],
   "source": [
    "df.describe(include=\"number\").round(2) #le .describe include number ne traite que les données numériques donc pas la colonne date -j'ai arrondi les resultats à 2 chiffres après la virgule\n",
    "#étude des statistiques descriptives- on peut voir que la moyenne d'âge des acheteurs est de 41 ans avec une quantité achetée en moyenne\n",
    "#de 2.97  et un prix moyen de 5.22 eur. l'âge minimum des acheteurs est 18 ans et le maximum 65 ans / la quantité minimum achetée est de 1 artciles et maximum 5 avec un prix \n",
    "#unitaire minimum de 4.50 € et maximum 6.20 €.après etudes des quartiles, il ne semble pas y avoir d'outliners (données aberrantes) et cela pourra être appuyer avec un boxplot.\n",
    "# remarque : il manque des données dans la colonne âge car on en compte 510 alors que le tableau comporte 521 lignes, il sera nécessaire de traiter cela avant de continuer"
   ]
  },
  {
   "cell_type": "markdown",
   "id": "efc97f3c-9506-453a-92f5-e80d1f105d4d",
   "metadata": {},
   "source": [
    " "
   ]
  },
  {
   "cell_type": "markdown",
   "id": "e0ce4c28-c208-40fa-b3ac-ad5d4e08f397",
   "metadata": {},
   "source": [
    "**NETTOYAGE DES DONNEES MANQUANTES**"
   ]
  },
  {
   "cell_type": "code",
   "execution_count": 163,
   "id": "21930ae1-d643-43fa-b59c-258c08b112ff",
   "metadata": {},
   "outputs": [
    {
     "data": {
      "text/plain": [
       "commande_id          False\n",
       "client_id            False\n",
       "nom_client           False\n",
       "age                  False\n",
       "genre                False\n",
       "ville                 True\n",
       "produit_id           False\n",
       "nom_produit          False\n",
       "type_chocolat        False\n",
       "quantite             False\n",
       "prix_unitaire        False\n",
       "date_commande        False\n",
       "remarques_clients     True\n",
       "dtype: bool"
      ]
     },
     "execution_count": 163,
     "metadata": {},
     "output_type": "execute_result"
    }
   ],
   "source": [
    "df.isna().any() #cela confirme qu'il manque bien des données dans la colonne âge ainsi que dans les colonnes ville et remarques clients\n",
    "#il conviendra de les traiter avant de commencer l'analyse-cela fait partie du nettoyage du fichier \n",
    "#on remarque qu'a présent il manque des données dans la colonne âge-ce qui signifie que des âges étaient écrits en toute lettres "
   ]
  },
  {
   "cell_type": "code",
   "execution_count": 165,
   "id": "d1d52ad0-93c1-40b4-9733-42a8ca11462a",
   "metadata": {},
   "outputs": [
    {
     "data": {
      "text/plain": [
       "commande_id            0\n",
       "client_id              0\n",
       "nom_client             0\n",
       "age                    0\n",
       "genre                  0\n",
       "ville                 15\n",
       "produit_id             0\n",
       "nom_produit            0\n",
       "type_chocolat          0\n",
       "quantite               0\n",
       "prix_unitaire          0\n",
       "date_commande          0\n",
       "remarques_clients    453\n",
       "dtype: int64"
      ]
     },
     "execution_count": 165,
     "metadata": {},
     "output_type": "execute_result"
    }
   ],
   "source": [
    "df.isna().sum() #cela indique le nombre de données manquantes dans chaque colonnes"
   ]
  },
  {
   "cell_type": "markdown",
   "id": "fa035a97-bb0d-4882-8b30-001e524b8256",
   "metadata": {},
   "source": [
    "**NETTOYAGE DE LA COLONNE VILLE**"
   ]
  },
  {
   "cell_type": "code",
   "execution_count": 168,
   "id": "299e648c-edc9-496a-bd86-6fc45fa0e094",
   "metadata": {},
   "outputs": [
    {
     "name": "stdout",
     "output_type": "stream",
     "text": [
      "    commande_id client_id                     nom_client  age genre ville  \\\n",
      "6       CMD0007      C185           Océane Pineau-Godard   35     M   NaN   \n",
      "27      CMD0028      C130             Grégoire Du Launay   28     F   NaN   \n",
      "103     CMD0104      C100               Hortense Regnier   60     F   NaN   \n",
      "128     CMD0129      C143                Margaret Bonnet   25     F   NaN   \n",
      "160     CMD0161      C117              Stéphane Maillard   34     F   NaN   \n",
      "195     CMD0196      C102               Honoré Lemonnier   40     M   NaN   \n",
      "198     CMD0199      C125                  Eugène Dubois   20     F   NaN   \n",
      "213     CMD0214      C178  Olivie Wagner De La Toussaint   23     M   NaN   \n",
      "282     CMD0283      C146        Louis Charpentier-Auger   50     F   NaN   \n",
      "350     CMD0351      C147                  Claire Pascal   60     M   NaN   \n",
      "381     CMD0381      C150                  Pierre Nguyen   22     M   NaN   \n",
      "404     CMD0404      C120                 Arthur Grondin   64     F   NaN   \n",
      "490     CMD0490      C175                   Xavier Weiss   50     M   NaN   \n",
      "495     CMD0495      C116    Juliette Blondel De La Mahe   63     M   NaN   \n",
      "500     CMD0500      C171                 Antoine Collin   42     M   NaN   \n",
      "\n",
      "    produit_id                 nom_produit type_chocolat  quantite  \\\n",
      "6         P001           Chocolux Noir 80%          noir         2   \n",
      "27        P001           Chocolux Noir 80%          noir         4   \n",
      "103       P001           Chocolux Noir 80%          noir         3   \n",
      "128       P001           Chocolux Noir 80%          noir         2   \n",
      "160       P001           Chocolux Noir 80%          noir         4   \n",
      "195       P004  Chocolux Noir Fleur De Sel          noir         1   \n",
      "198       P002     Chocolux Lait Noisettes          lait         5   \n",
      "213       P005       Chocolux Lait Caramel          lait         4   \n",
      "282       P004  Chocolux Noir Fleur De Sel          noir         4   \n",
      "350       P003      Chocolux Blanc Vanille         blanc         2   \n",
      "381       P005       Chocolux Lait Caramel          lait         2   \n",
      "404       P005       Chocolux Lait Caramel          lait         3   \n",
      "490       P001           Chocolux Noir 80%          noir         1   \n",
      "495       P003      Chocolux Blanc Vanille         blanc         3   \n",
      "500       P004  Chocolux Noir Fleur De Sel          noir         3   \n",
      "\n",
      "     prix_unitaire date_commande remarques_clients  \n",
      "6              5.5    2025-01-23               NaN  \n",
      "27             5.5    2025-02-24             cassé  \n",
      "103            5.5    2025-01-22               NaN  \n",
      "128            5.5    2025-03-17               NaN  \n",
      "160            5.5    2025-03-24               NaN  \n",
      "195            6.2    2025-02-22               NaN  \n",
      "198            4.8    2025-01-15             cassé  \n",
      "213            5.0    2024-12-27               NaN  \n",
      "282            6.2    2025-03-14               NaN  \n",
      "350            4.5    2025-02-13               NaN  \n",
      "381            5.0    2025-02-16               NaN  \n",
      "404            5.0    2025-01-06               NaN  \n",
      "490            5.5    2024-12-07               NaN  \n",
      "495            4.5    2025-01-18               NaN  \n",
      "500            6.2    2025-01-21   livraison lente  \n"
     ]
    }
   ],
   "source": [
    "ville_vide = df[df['ville'].isna()] #cela me permet de visualiser les cases vides dans la colonne ville\n",
    "print(ville_vide)"
   ]
  },
  {
   "cell_type": "code",
   "execution_count": 170,
   "id": "68761968-7cc5-4a1a-889c-ff31ee6e00a1",
   "metadata": {},
   "outputs": [
    {
     "name": "stdout",
     "output_type": "stream",
     "text": [
      "Doublons parmi les lignes avec 'ville' manquante :\n",
      "Empty DataFrame\n",
      "Columns: [commande_id, client_id, nom_client, age, genre, ville, produit_id, nom_produit, type_chocolat, quantite, prix_unitaire, date_commande, remarques_clients]\n",
      "Index: []\n"
     ]
    }
   ],
   "source": [
    "lignes_manquantes = df[df['ville'].isna()]\n",
    "\n",
    "doublons_manquants_ville = lignes_manquantes[lignes_manquantes.duplicated()] #je verifie que ces lignes où la ville est manquante n'ont pas de doublons\n",
    "print(\"Doublons parmi les lignes avec 'ville' manquante :\")\n",
    "print(doublons_manquants_ville) #ces lignes n'ont pas de doublons/il convient d'établir ce que je vais faire de ces lignes - en entreprises j'aurai échangé avec le service concerné afin d'obtenir l'information  \n",
    "#ici, nous ne pouvons pas déduire l'information mais je peux choisir de supprimer, appliquer un mode, indiquer valeur inconnue etc. je vais choisir d'appliquer le nom de ville le plus utilisé"
   ]
  },
  {
   "cell_type": "code",
   "execution_count": 172,
   "id": "9d71d0fe-e6af-4705-96d2-342c0afab8d7",
   "metadata": {},
   "outputs": [
    {
     "name": "stdout",
     "output_type": "stream",
     "text": [
      "La ville la plus utilisée est : Paris\n"
     ]
    }
   ],
   "source": [
    "ville_recurrente = df['ville'].mode()[0]  # .mode me permet de calculer le nom de ville apparaissant le plus souvent- le 0 me permet de choisir la première valeur.\n",
    "print(f\"La ville la plus utilisée est : {ville_recurrente}\")"
   ]
  },
  {
   "cell_type": "code",
   "execution_count": 174,
   "id": "64e3fa0f-65e3-42bd-9d4e-16c4d601bb4b",
   "metadata": {},
   "outputs": [],
   "source": [
    "#je vais donc remplacer les villes vident par \"Paris\"\n",
    "df['ville'] = df['ville'].fillna('Paris')"
   ]
  },
  {
   "cell_type": "markdown",
   "id": "32a4f187-7499-4f20-b324-aa82738661d0",
   "metadata": {},
   "source": [
    " **NETTOYAGE COLONNE REMARQUE CLIENT**"
   ]
  },
  {
   "cell_type": "code",
   "execution_count": 177,
   "id": "398dd040-70e3-43fd-8678-d41273c69518",
   "metadata": {},
   "outputs": [
    {
     "data": {
      "text/html": [
       "<div>\n",
       "<style scoped>\n",
       "    .dataframe tbody tr th:only-of-type {\n",
       "        vertical-align: middle;\n",
       "    }\n",
       "\n",
       "    .dataframe tbody tr th {\n",
       "        vertical-align: top;\n",
       "    }\n",
       "\n",
       "    .dataframe thead th {\n",
       "        text-align: right;\n",
       "    }\n",
       "</style>\n",
       "<table border=\"1\" class=\"dataframe\">\n",
       "  <thead>\n",
       "    <tr style=\"text-align: right;\">\n",
       "      <th></th>\n",
       "      <th>commande_id</th>\n",
       "      <th>client_id</th>\n",
       "      <th>nom_client</th>\n",
       "      <th>age</th>\n",
       "      <th>genre</th>\n",
       "      <th>ville</th>\n",
       "      <th>produit_id</th>\n",
       "      <th>nom_produit</th>\n",
       "      <th>type_chocolat</th>\n",
       "      <th>quantite</th>\n",
       "      <th>prix_unitaire</th>\n",
       "      <th>date_commande</th>\n",
       "      <th>remarques_clients</th>\n",
       "    </tr>\n",
       "  </thead>\n",
       "  <tbody>\n",
       "    <tr>\n",
       "      <th>0</th>\n",
       "      <td>CMD0001</td>\n",
       "      <td>C194</td>\n",
       "      <td>Joseph Torres</td>\n",
       "      <td>24</td>\n",
       "      <td>M</td>\n",
       "      <td>Toulouse</td>\n",
       "      <td>P001</td>\n",
       "      <td>Chocolux Noir 80%</td>\n",
       "      <td>noir</td>\n",
       "      <td>1</td>\n",
       "      <td>5.5</td>\n",
       "      <td>2024-12-30</td>\n",
       "      <td>NaN</td>\n",
       "    </tr>\n",
       "    <tr>\n",
       "      <th>1</th>\n",
       "      <td>CMD0002</td>\n",
       "      <td>C103</td>\n",
       "      <td>Laurence Jacques</td>\n",
       "      <td>53</td>\n",
       "      <td>M</td>\n",
       "      <td>Lille</td>\n",
       "      <td>P004</td>\n",
       "      <td>Chocolux Noir Fleur De Sel</td>\n",
       "      <td>noir</td>\n",
       "      <td>4</td>\n",
       "      <td>6.2</td>\n",
       "      <td>2025-03-19</td>\n",
       "      <td>NaN</td>\n",
       "    </tr>\n",
       "    <tr>\n",
       "      <th>3</th>\n",
       "      <td>CMD0004</td>\n",
       "      <td>C144</td>\n",
       "      <td>Alfred Nguyen</td>\n",
       "      <td>56</td>\n",
       "      <td>F</td>\n",
       "      <td>Nantes</td>\n",
       "      <td>P004</td>\n",
       "      <td>Chocolux Noir Fleur De Sel</td>\n",
       "      <td>noir</td>\n",
       "      <td>5</td>\n",
       "      <td>6.2</td>\n",
       "      <td>2025-02-13</td>\n",
       "      <td>NaN</td>\n",
       "    </tr>\n",
       "    <tr>\n",
       "      <th>4</th>\n",
       "      <td>CMD0005</td>\n",
       "      <td>C137</td>\n",
       "      <td>Constance Le Bonnet</td>\n",
       "      <td>58</td>\n",
       "      <td>F</td>\n",
       "      <td>Toulouse</td>\n",
       "      <td>P004</td>\n",
       "      <td>Chocolux Noir Fleur De Sel</td>\n",
       "      <td>noir</td>\n",
       "      <td>1</td>\n",
       "      <td>6.2</td>\n",
       "      <td>2025-03-03</td>\n",
       "      <td>NaN</td>\n",
       "    </tr>\n",
       "    <tr>\n",
       "      <th>5</th>\n",
       "      <td>CMD0006</td>\n",
       "      <td>C110</td>\n",
       "      <td>Gérard De La Daniel</td>\n",
       "      <td>32</td>\n",
       "      <td>M</td>\n",
       "      <td>Marseille</td>\n",
       "      <td>P002</td>\n",
       "      <td>Chocolux Lait Noisettes</td>\n",
       "      <td>lait</td>\n",
       "      <td>3</td>\n",
       "      <td>4.8</td>\n",
       "      <td>2025-01-20</td>\n",
       "      <td>NaN</td>\n",
       "    </tr>\n",
       "  </tbody>\n",
       "</table>\n",
       "</div>"
      ],
      "text/plain": [
       "  commande_id client_id           nom_client  age genre      ville produit_id  \\\n",
       "0     CMD0001      C194        Joseph Torres   24     M   Toulouse       P001   \n",
       "1     CMD0002      C103     Laurence Jacques   53     M      Lille       P004   \n",
       "3     CMD0004      C144        Alfred Nguyen   56     F     Nantes       P004   \n",
       "4     CMD0005      C137  Constance Le Bonnet   58     F   Toulouse       P004   \n",
       "5     CMD0006      C110  Gérard De La Daniel   32     M  Marseille       P002   \n",
       "\n",
       "                  nom_produit type_chocolat  quantite  prix_unitaire  \\\n",
       "0           Chocolux Noir 80%          noir         1            5.5   \n",
       "1  Chocolux Noir Fleur De Sel          noir         4            6.2   \n",
       "3  Chocolux Noir Fleur De Sel          noir         5            6.2   \n",
       "4  Chocolux Noir Fleur De Sel          noir         1            6.2   \n",
       "5     Chocolux Lait Noisettes          lait         3            4.8   \n",
       "\n",
       "  date_commande remarques_clients  \n",
       "0    2024-12-30               NaN  \n",
       "1    2025-03-19               NaN  \n",
       "3    2025-02-13               NaN  \n",
       "4    2025-03-03               NaN  \n",
       "5    2025-01-20               NaN  "
      ]
     },
     "execution_count": 177,
     "metadata": {},
     "output_type": "execute_result"
    }
   ],
   "source": [
    "#les clients ne laissent pas forcémment de remarques .ici je remplacerait donc les cases vident par 'aucune remarque' mais je vais avant verifier verifier les lignes et doublons\n",
    "remarques_clients_vide = df[df['remarques_clients'].isna()] #cela me permet de visualiser les cases vides dans la colonne ville\n",
    "remarques_clients_vide.head()"
   ]
  },
  {
   "cell_type": "code",
   "execution_count": 179,
   "id": "ff31d24f-5675-4177-94de-92b10132e5d6",
   "metadata": {},
   "outputs": [],
   "source": [
    "df['remarques_clients'] = df['remarques_clients'].fillna('aucune remarque')"
   ]
  },
  {
   "cell_type": "code",
   "execution_count": 181,
   "id": "678df6c9-9df6-4650-8cdc-6762f2a77c83",
   "metadata": {},
   "outputs": [
    {
     "data": {
      "text/plain": [
       "commande_id          0\n",
       "client_id            0\n",
       "nom_client           0\n",
       "age                  0\n",
       "genre                0\n",
       "ville                0\n",
       "produit_id           0\n",
       "nom_produit          0\n",
       "type_chocolat        0\n",
       "quantite             0\n",
       "prix_unitaire        0\n",
       "date_commande        0\n",
       "remarques_clients    0\n",
       "dtype: int64"
      ]
     },
     "execution_count": 181,
     "metadata": {},
     "output_type": "execute_result"
    }
   ],
   "source": [
    "df.isna().sum() #toutes les colonnes sont nettoyées et harmonisées . nous pouvons passer à l'analyse des données."
   ]
  },
  {
   "cell_type": "code",
   "execution_count": 183,
   "id": "01859e74-ed28-402f-b16a-2809946a3d32",
   "metadata": {},
   "outputs": [
    {
     "data": {
      "text/plain": [
       "(500, 13)"
      ]
     },
     "execution_count": 183,
     "metadata": {},
     "output_type": "execute_result"
    }
   ],
   "source": [
    "df.shape #les doublons ont bien été supprimé car le nombre total de ligne a baissé"
   ]
  },
  {
   "cell_type": "markdown",
   "id": "8c9aea42-4382-4244-a4f8-5f479cb7952e",
   "metadata": {},
   "source": [
    "**2-Élaborer un plan de nettoyage clair et 3- Appliquer les traitements de nettoyage avec pandas.**"
   ]
  },
  {
   "cell_type": "markdown",
   "id": "c2cf283a-9bec-4a94-8c48-ae535baa7e4b",
   "metadata": {},
   "source": [
    "Voici le nettoyage qui a été appliqué précedemment:\n",
    "\n",
    "1- infos generales (nombre cellules, nombres colonnes et lignes, nombre données manquantes)\n",
    "\n",
    "2- harmoniser les cellules (supprimer espaces, les majuscules minuscules...)\n",
    "\n",
    "3- infos types colonnes et conversion types colonnes (identifier les types et convertir si besoin)\n",
    "\n",
    "4- remplir les données manquantes avec la méthode appropriée (suppression, mode, moyenne, médiane...)\n",
    "\n",
    "5- nettoyage des doublons\n",
    "\n",
    "6-vérification des changements"
   ]
  },
  {
   "cell_type": "markdown",
   "id": "58d27c45-caf9-48d5-acb5-a7e9f6ceb0bb",
   "metadata": {},
   "source": [
    "**4.Bonus : Créer une fonction nettoyer_texte(colonne) qui : enlève les espaces inutiles, passe en minuscules, capitalise la première lettre de chaque mot.**"
   ]
  },
  {
   "cell_type": "code",
   "execution_count": 188,
   "id": "33d2287e-2234-458f-9235-49298c2e044d",
   "metadata": {},
   "outputs": [],
   "source": [
    "def nettoyer_texte(colonne):\n",
    "    \"\"\"\n",
    "    Nettoie une colonne Pandas (Series) :\n",
    "    - supprime les espaces inutiles\n",
    "    - met en minuscules\n",
    "    - capitalise la première lettre de chaque mot\n",
    "    \"\"\"\n",
    "    return colonne.apply(\n",
    "        lambda x: \" \".join(str(x).strip().split()).lower().title() if pd.notnull(x) else x\n",
    "    )\n",
    "\n",
    "# voici une fonction permettant de nettoyer une colonne(aider par chatgpt)\n",
    "#il faudra l'appliquer ainsi exemple : df[\"ville\"] = nettoyer_texte(df[\"ville\"])"
   ]
  },
  {
   "cell_type": "markdown",
   "id": "124dda99-5b23-4b9a-a20a-3f0928efa2e3",
   "metadata": {},
   "source": [
    "## <font color=#A52A2A > **EXERCICE 2 - Analyse des ventes**"
   ]
  },
  {
   "cell_type": "markdown",
   "id": "791ea217-051f-41be-874e-8584e4301cfc",
   "metadata": {},
   "source": [
    "**5.Créer une colonne chiffre_affaires puis réaliser un graphique en lignes de l’évolution du chiffre d’affaires dans le temps (par date de commande). Que remarques-tu ?**"
   ]
  },
  {
   "cell_type": "code",
   "execution_count": 192,
   "id": "959fae21-1df5-46e3-98c5-7ef0628f05bf",
   "metadata": {},
   "outputs": [
    {
     "data": {
      "text/html": [
       "<div>\n",
       "<style scoped>\n",
       "    .dataframe tbody tr th:only-of-type {\n",
       "        vertical-align: middle;\n",
       "    }\n",
       "\n",
       "    .dataframe tbody tr th {\n",
       "        vertical-align: top;\n",
       "    }\n",
       "\n",
       "    .dataframe thead th {\n",
       "        text-align: right;\n",
       "    }\n",
       "</style>\n",
       "<table border=\"1\" class=\"dataframe\">\n",
       "  <thead>\n",
       "    <tr style=\"text-align: right;\">\n",
       "      <th></th>\n",
       "      <th>commande_id</th>\n",
       "      <th>client_id</th>\n",
       "      <th>nom_client</th>\n",
       "      <th>age</th>\n",
       "      <th>genre</th>\n",
       "      <th>ville</th>\n",
       "      <th>produit_id</th>\n",
       "      <th>nom_produit</th>\n",
       "      <th>type_chocolat</th>\n",
       "      <th>quantite</th>\n",
       "      <th>prix_unitaire</th>\n",
       "      <th>date_commande</th>\n",
       "      <th>remarques_clients</th>\n",
       "      <th>chiffre_affaires</th>\n",
       "    </tr>\n",
       "  </thead>\n",
       "  <tbody>\n",
       "    <tr>\n",
       "      <th>0</th>\n",
       "      <td>CMD0001</td>\n",
       "      <td>C194</td>\n",
       "      <td>Joseph Torres</td>\n",
       "      <td>24</td>\n",
       "      <td>M</td>\n",
       "      <td>Toulouse</td>\n",
       "      <td>P001</td>\n",
       "      <td>Chocolux Noir 80%</td>\n",
       "      <td>noir</td>\n",
       "      <td>1</td>\n",
       "      <td>5.5</td>\n",
       "      <td>2024-12-30</td>\n",
       "      <td>aucune remarque</td>\n",
       "      <td>5.5</td>\n",
       "    </tr>\n",
       "    <tr>\n",
       "      <th>1</th>\n",
       "      <td>CMD0002</td>\n",
       "      <td>C103</td>\n",
       "      <td>Laurence Jacques</td>\n",
       "      <td>53</td>\n",
       "      <td>M</td>\n",
       "      <td>Lille</td>\n",
       "      <td>P004</td>\n",
       "      <td>Chocolux Noir Fleur De Sel</td>\n",
       "      <td>noir</td>\n",
       "      <td>4</td>\n",
       "      <td>6.2</td>\n",
       "      <td>2025-03-19</td>\n",
       "      <td>aucune remarque</td>\n",
       "      <td>24.8</td>\n",
       "    </tr>\n",
       "    <tr>\n",
       "      <th>2</th>\n",
       "      <td>CMD0003</td>\n",
       "      <td>C100</td>\n",
       "      <td>Matthieu Aubert</td>\n",
       "      <td>28</td>\n",
       "      <td>F</td>\n",
       "      <td>Lyon</td>\n",
       "      <td>P001</td>\n",
       "      <td>Chocolux Noir 80%</td>\n",
       "      <td>noir</td>\n",
       "      <td>3</td>\n",
       "      <td>5.5</td>\n",
       "      <td>2025-02-13</td>\n",
       "      <td>mauvais</td>\n",
       "      <td>16.5</td>\n",
       "    </tr>\n",
       "    <tr>\n",
       "      <th>3</th>\n",
       "      <td>CMD0004</td>\n",
       "      <td>C144</td>\n",
       "      <td>Alfred Nguyen</td>\n",
       "      <td>56</td>\n",
       "      <td>F</td>\n",
       "      <td>Nantes</td>\n",
       "      <td>P004</td>\n",
       "      <td>Chocolux Noir Fleur De Sel</td>\n",
       "      <td>noir</td>\n",
       "      <td>5</td>\n",
       "      <td>6.2</td>\n",
       "      <td>2025-02-13</td>\n",
       "      <td>aucune remarque</td>\n",
       "      <td>31.0</td>\n",
       "    </tr>\n",
       "    <tr>\n",
       "      <th>4</th>\n",
       "      <td>CMD0005</td>\n",
       "      <td>C137</td>\n",
       "      <td>Constance Le Bonnet</td>\n",
       "      <td>58</td>\n",
       "      <td>F</td>\n",
       "      <td>Toulouse</td>\n",
       "      <td>P004</td>\n",
       "      <td>Chocolux Noir Fleur De Sel</td>\n",
       "      <td>noir</td>\n",
       "      <td>1</td>\n",
       "      <td>6.2</td>\n",
       "      <td>2025-03-03</td>\n",
       "      <td>aucune remarque</td>\n",
       "      <td>6.2</td>\n",
       "    </tr>\n",
       "  </tbody>\n",
       "</table>\n",
       "</div>"
      ],
      "text/plain": [
       "  commande_id client_id           nom_client  age genre     ville produit_id  \\\n",
       "0     CMD0001      C194        Joseph Torres   24     M  Toulouse       P001   \n",
       "1     CMD0002      C103     Laurence Jacques   53     M     Lille       P004   \n",
       "2     CMD0003      C100      Matthieu Aubert   28     F      Lyon       P001   \n",
       "3     CMD0004      C144        Alfred Nguyen   56     F    Nantes       P004   \n",
       "4     CMD0005      C137  Constance Le Bonnet   58     F  Toulouse       P004   \n",
       "\n",
       "                  nom_produit type_chocolat  quantite  prix_unitaire  \\\n",
       "0           Chocolux Noir 80%          noir         1            5.5   \n",
       "1  Chocolux Noir Fleur De Sel          noir         4            6.2   \n",
       "2           Chocolux Noir 80%          noir         3            5.5   \n",
       "3  Chocolux Noir Fleur De Sel          noir         5            6.2   \n",
       "4  Chocolux Noir Fleur De Sel          noir         1            6.2   \n",
       "\n",
       "  date_commande remarques_clients  chiffre_affaires  \n",
       "0    2024-12-30   aucune remarque               5.5  \n",
       "1    2025-03-19   aucune remarque              24.8  \n",
       "2    2025-02-13           mauvais              16.5  \n",
       "3    2025-02-13   aucune remarque              31.0  \n",
       "4    2025-03-03   aucune remarque               6.2  "
      ]
     },
     "execution_count": 192,
     "metadata": {},
     "output_type": "execute_result"
    }
   ],
   "source": [
    "df[\"chiffre_affaires\"] = df[\"quantite\"] * df[\"prix_unitaire\"] #je créé la colonne chiffre d'affaires en multipliant le prix unitaire par la quantité\n",
    "df.head() #la colonne est crée"
   ]
  },
  {
   "cell_type": "code",
   "execution_count": 194,
   "id": "cfcc2edd-da02-4b03-81f3-7e33ada93308",
   "metadata": {},
   "outputs": [
    {
     "data": {
      "image/png": "[encoded data removed]",
      "text/plain": [
       "<Figure size 1200x600 with 1 Axes>"
      ]
     },
     "metadata": {},
     "output_type": "display_data"
    }
   ],
   "source": [
    "df_ca_par_date = df.groupby(\"date_commande\")[\"chiffre_affaires\"].sum().reset_index() #il faut regrouper par date de commande\n",
    "\n",
    "# puis tracer le graphique en ligne pour l evolution\n",
    "plt.figure(figsize=(12, 6))\n",
    "plt.plot(df_ca_par_date[\"date_commande\"], df_ca_par_date[\"chiffre_affaires\"], marker=\"o\")\n",
    "plt.title(\"Évolution du chiffre d'affaires dans le temps\")\n",
    "plt.xlabel(\"Date de commande\")\n",
    "plt.ylabel(\"Chiffre d'affaires (€)\")\n",
    "plt.grid(True)\n",
    "plt.xticks(rotation=45)\n",
    "plt.tight_layout()\n",
    "plt.show()\n"
   ]
  },
  {
   "cell_type": "markdown",
   "id": "158f796f-149c-490b-bff3-e0c122b8aae5",
   "metadata": {},
   "source": [
    "CONCLUSION : le chiffre d'affaire a une tendance globale stable sauf pour la période entre le 8 et le 15 février 2025 où on peut observer une forte hausse inhabituelle dans le temps. \n",
    "Il semblerait que la saint valentin ai pu avoir une forte incidence sur le nombre de vente dans cette période."
   ]
  },
  {
   "cell_type": "markdown",
   "id": "72a4f336-77bf-49da-8297-61c8962d167b",
   "metadata": {},
   "source": [
    "**6.Afficher précisément les CA par mois et détecter la période avec la plus forte croissance.**"
   ]
  },
  {
   "cell_type": "code",
   "execution_count": 198,
   "id": "25c30e88-e31e-484f-b380-9129f4f9df74",
   "metadata": {},
   "outputs": [],
   "source": [
    "# Crée une colonne avec le mois au format AAAA-MM\n",
    "df[\"mois\"] = df[\"date_commande\"].dt.to_period(\"M\").astype(str)\n",
    "\n",
    "# Regroupe et additionne les CA par mois\n",
    "ca_par_mois = df.groupby(\"mois\")[\"chiffre_affaires\"].sum().reset_index()\n"
   ]
  },
  {
   "cell_type": "code",
   "execution_count": 200,
   "id": "a1605f9e-c7d7-4608-b45f-6087087f9de9",
   "metadata": {},
   "outputs": [
    {
     "data": {
      "text/html": [
       "<div>\n",
       "<style scoped>\n",
       "    .dataframe tbody tr th:only-of-type {\n",
       "        vertical-align: middle;\n",
       "    }\n",
       "\n",
       "    .dataframe tbody tr th {\n",
       "        vertical-align: top;\n",
       "    }\n",
       "\n",
       "    .dataframe thead th {\n",
       "        text-align: right;\n",
       "    }\n",
       "</style>\n",
       "<table border=\"1\" class=\"dataframe\">\n",
       "  <thead>\n",
       "    <tr style=\"text-align: right;\">\n",
       "      <th></th>\n",
       "      <th>commande_id</th>\n",
       "      <th>client_id</th>\n",
       "      <th>nom_client</th>\n",
       "      <th>age</th>\n",
       "      <th>genre</th>\n",
       "      <th>ville</th>\n",
       "      <th>produit_id</th>\n",
       "      <th>nom_produit</th>\n",
       "      <th>type_chocolat</th>\n",
       "      <th>quantite</th>\n",
       "      <th>prix_unitaire</th>\n",
       "      <th>date_commande</th>\n",
       "      <th>remarques_clients</th>\n",
       "      <th>chiffre_affaires</th>\n",
       "      <th>mois</th>\n",
       "    </tr>\n",
       "  </thead>\n",
       "  <tbody>\n",
       "    <tr>\n",
       "      <th>0</th>\n",
       "      <td>CMD0001</td>\n",
       "      <td>C194</td>\n",
       "      <td>Joseph Torres</td>\n",
       "      <td>24</td>\n",
       "      <td>M</td>\n",
       "      <td>Toulouse</td>\n",
       "      <td>P001</td>\n",
       "      <td>Chocolux Noir 80%</td>\n",
       "      <td>noir</td>\n",
       "      <td>1</td>\n",
       "      <td>5.5</td>\n",
       "      <td>2024-12-30</td>\n",
       "      <td>aucune remarque</td>\n",
       "      <td>5.5</td>\n",
       "      <td>2024-12</td>\n",
       "    </tr>\n",
       "    <tr>\n",
       "      <th>1</th>\n",
       "      <td>CMD0002</td>\n",
       "      <td>C103</td>\n",
       "      <td>Laurence Jacques</td>\n",
       "      <td>53</td>\n",
       "      <td>M</td>\n",
       "      <td>Lille</td>\n",
       "      <td>P004</td>\n",
       "      <td>Chocolux Noir Fleur De Sel</td>\n",
       "      <td>noir</td>\n",
       "      <td>4</td>\n",
       "      <td>6.2</td>\n",
       "      <td>2025-03-19</td>\n",
       "      <td>aucune remarque</td>\n",
       "      <td>24.8</td>\n",
       "      <td>2025-03</td>\n",
       "    </tr>\n",
       "    <tr>\n",
       "      <th>2</th>\n",
       "      <td>CMD0003</td>\n",
       "      <td>C100</td>\n",
       "      <td>Matthieu Aubert</td>\n",
       "      <td>28</td>\n",
       "      <td>F</td>\n",
       "      <td>Lyon</td>\n",
       "      <td>P001</td>\n",
       "      <td>Chocolux Noir 80%</td>\n",
       "      <td>noir</td>\n",
       "      <td>3</td>\n",
       "      <td>5.5</td>\n",
       "      <td>2025-02-13</td>\n",
       "      <td>mauvais</td>\n",
       "      <td>16.5</td>\n",
       "      <td>2025-02</td>\n",
       "    </tr>\n",
       "    <tr>\n",
       "      <th>3</th>\n",
       "      <td>CMD0004</td>\n",
       "      <td>C144</td>\n",
       "      <td>Alfred Nguyen</td>\n",
       "      <td>56</td>\n",
       "      <td>F</td>\n",
       "      <td>Nantes</td>\n",
       "      <td>P004</td>\n",
       "      <td>Chocolux Noir Fleur De Sel</td>\n",
       "      <td>noir</td>\n",
       "      <td>5</td>\n",
       "      <td>6.2</td>\n",
       "      <td>2025-02-13</td>\n",
       "      <td>aucune remarque</td>\n",
       "      <td>31.0</td>\n",
       "      <td>2025-02</td>\n",
       "    </tr>\n",
       "    <tr>\n",
       "      <th>4</th>\n",
       "      <td>CMD0005</td>\n",
       "      <td>C137</td>\n",
       "      <td>Constance Le Bonnet</td>\n",
       "      <td>58</td>\n",
       "      <td>F</td>\n",
       "      <td>Toulouse</td>\n",
       "      <td>P004</td>\n",
       "      <td>Chocolux Noir Fleur De Sel</td>\n",
       "      <td>noir</td>\n",
       "      <td>1</td>\n",
       "      <td>6.2</td>\n",
       "      <td>2025-03-03</td>\n",
       "      <td>aucune remarque</td>\n",
       "      <td>6.2</td>\n",
       "      <td>2025-03</td>\n",
       "    </tr>\n",
       "  </tbody>\n",
       "</table>\n",
       "</div>"
      ],
      "text/plain": [
       "  commande_id client_id           nom_client  age genre     ville produit_id  \\\n",
       "0     CMD0001      C194        Joseph Torres   24     M  Toulouse       P001   \n",
       "1     CMD0002      C103     Laurence Jacques   53     M     Lille       P004   \n",
       "2     CMD0003      C100      Matthieu Aubert   28     F      Lyon       P001   \n",
       "3     CMD0004      C144        Alfred Nguyen   56     F    Nantes       P004   \n",
       "4     CMD0005      C137  Constance Le Bonnet   58     F  Toulouse       P004   \n",
       "\n",
       "                  nom_produit type_chocolat  quantite  prix_unitaire  \\\n",
       "0           Chocolux Noir 80%          noir         1            5.5   \n",
       "1  Chocolux Noir Fleur De Sel          noir         4            6.2   \n",
       "2           Chocolux Noir 80%          noir         3            5.5   \n",
       "3  Chocolux Noir Fleur De Sel          noir         5            6.2   \n",
       "4  Chocolux Noir Fleur De Sel          noir         1            6.2   \n",
       "\n",
       "  date_commande remarques_clients  chiffre_affaires     mois  \n",
       "0    2024-12-30   aucune remarque               5.5  2024-12  \n",
       "1    2025-03-19   aucune remarque              24.8  2025-03  \n",
       "2    2025-02-13           mauvais              16.5  2025-02  \n",
       "3    2025-02-13   aucune remarque              31.0  2025-02  \n",
       "4    2025-03-03   aucune remarque               6.2  2025-03  "
      ]
     },
     "execution_count": 200,
     "metadata": {},
     "output_type": "execute_result"
    }
   ],
   "source": [
    "df.head()"
   ]
  },
  {
   "cell_type": "code",
   "execution_count": 202,
   "id": "1c3c8e7f-c6da-4d8e-9f3d-23377e8fbf11",
   "metadata": {},
   "outputs": [
    {
     "data": {
      "text/plain": [
       "commande_id                  object\n",
       "client_id                    object\n",
       "nom_client                   object\n",
       "age                           int64\n",
       "genre                      category\n",
       "ville                      category\n",
       "produit_id                   object\n",
       "nom_produit                  object\n",
       "type_chocolat              category\n",
       "quantite                      int64\n",
       "prix_unitaire               float64\n",
       "date_commande        datetime64[ns]\n",
       "remarques_clients            object\n",
       "chiffre_affaires            float64\n",
       "mois                         object\n",
       "dtype: object"
      ]
     },
     "execution_count": 202,
     "metadata": {},
     "output_type": "execute_result"
    }
   ],
   "source": [
    "df.dtypes #je vais passer la colonne mois en datetime"
   ]
  },
  {
   "cell_type": "code",
   "execution_count": 204,
   "id": "a3c5dc47-e822-443b-a4ac-23a8a562283e",
   "metadata": {},
   "outputs": [],
   "source": [
    "ca_par_mois[\"mois\"] = pd.to_datetime(ca_par_mois[\"mois\"].astype(str))"
   ]
  },
  {
   "cell_type": "code",
   "execution_count": 206,
   "id": "8b899c45-82b6-432e-9878-8843a9f37104",
   "metadata": {},
   "outputs": [
    {
     "data": {
      "image/png": "[encoded data removed]",
      "text/plain": [
       "<Figure size 1000x500 with 1 Axes>"
      ]
     },
     "metadata": {},
     "output_type": "display_data"
    }
   ],
   "source": [
    "import matplotlib.pyplot as plt #je crée un graphique en barre pour voir l'évolution\n",
    "\n",
    "plt.figure(figsize=(10, 5))\n",
    "plt.bar(ca_par_mois[\"mois\"].dt.strftime(\"%Y-%m\"), ca_par_mois[\"chiffre_affaires\"], color=\"skyblue\")\n",
    "plt.title(\"Chiffre d'affaires par mois\")\n",
    "plt.xlabel(\"Mois\")\n",
    "plt.ylabel(\"Chiffre d'affaires (€)\")\n",
    "plt.xticks(rotation=45)\n",
    "plt.tight_layout()\n",
    "plt.show()"
   ]
  },
  {
   "cell_type": "markdown",
   "id": "cd4bd3bf-f043-4d6a-8ff3-5cbc7ff30943",
   "metadata": {},
   "source": [
    "CONCLUSION : la période avec la plus forte croissance est celle de février 2025"
   ]
  },
  {
   "cell_type": "markdown",
   "id": "cc71a905-e081-4ae9-8128-c1899c3acca0",
   "metadata": {},
   "source": [
    "**7.Identifier les 5 journées ayant généré le plus de chiffre d’affaires et observer si elles correspondent à des dates particulières. Interpréter ces résultats.**"
   ]
  },
  {
   "cell_type": "code",
   "execution_count": 210,
   "id": "a73bf27c-1b96-4bf9-b9aa-d8742becd03c",
   "metadata": {},
   "outputs": [],
   "source": [
    "#je regroupe le ciffre d'affaire par jour\n",
    "ca_par_jour = df.groupby(\"date_commande\")[\"chiffre_affaires\"].sum().reset_index()"
   ]
  },
  {
   "cell_type": "code",
   "execution_count": 212,
   "id": "d2e5b7ba-d9e9-4c18-a2ad-2489cb21d144",
   "metadata": {},
   "outputs": [
    {
     "name": "stdout",
     "output_type": "stream",
     "text": [
      "   date_commande  chiffre_affaires\n",
      "71    2025-02-11             398.7\n",
      "72    2025-02-12             349.2\n",
      "73    2025-02-13             256.5\n",
      "70    2025-02-10             239.3\n",
      "74    2025-02-14             210.4\n"
     ]
    }
   ],
   "source": [
    "top_5_jours = ca_par_jour.sort_values(by=\"chiffre_affaires\", ascending=False).head(5) #j'utilise values pour ranger dans l'ordre decroissant avec ascending les chiffres d'affaires\n",
    "print(top_5_jours)"
   ]
  },
  {
   "cell_type": "markdown",
   "id": "3c89c787-0403-4f41-a013-0a62cffd711a",
   "metadata": {},
   "source": [
    "conclusion: les jours ayant générés le plus de chiffres d'affaires correspondent à la periode pré saint valentin."
   ]
  },
  {
   "cell_type": "markdown",
   "id": "90ae34a8-5ae0-4ad7-a216-eb9702e2b646",
   "metadata": {},
   "source": [
    "**8.Réaliser un graphique en barres représentant le top 5 des produits les plus vendus en quantité.**"
   ]
  },
  {
   "cell_type": "code",
   "execution_count": 445,
   "id": "a57925fe-d840-405a-9d29-785204b3e9e7",
   "metadata": {},
   "outputs": [
    {
     "name": "stdout",
     "output_type": "stream",
     "text": [
      "nom_produit\n",
      "Chocolux Lait Noisettes       459\n",
      "Chocolux Noir 80%             422\n",
      "Chocolux Noir Fleur De Sel    244\n",
      "Chocolux Blanc Vanille        222\n",
      "Chocolux Lait Caramel         130\n",
      "Name: quantite, dtype: int64\n"
     ]
    }
   ],
   "source": [
    "#je créé une variable top produit qui regroupe le sproduits par nom et quantité en les rangeant par ordre asecendantet en affichant que les 5 premiers)\n",
    "top_produits = (\n",
    "    df.groupby(\"nom_produit\")[\"quantite\"]\n",
    "    .sum()\n",
    "    .sort_values(ascending=False)\n",
    "    .head(5)\n",
    ")\n",
    "print(top_produits.head())"
   ]
  },
  {
   "cell_type": "code",
   "execution_count": 449,
   "id": "5fb6dfab-5bc5-4e35-9826-40ed8f25ce8c",
   "metadata": {},
   "outputs": [
    {
     "data": {
      "image/png": "[encoded data removed]",
      "text/plain": [
       "<Figure size 1000x600 with 1 Axes>"
      ]
     },
     "metadata": {},
     "output_type": "display_data"
    }
   ],
   "source": [
    "# Graphique en barres\n",
    "plt.figure(figsize=(10, 6))\n",
    "top_produits.plot(kind=\"bar\", color=\"chocolate\")\n",
    "\n",
    "plt.title(\"Top 5 des produits les plus vendus en quantité\")\n",
    "plt.xlabel(\"Produit\")\n",
    "plt.ylabel(\"Quantité vendue\")\n",
    "plt.xticks(rotation=45, ha='right')\n",
    "plt.show()"
   ]
  },
  {
   "cell_type": "code",
   "execution_count": 218,
   "id": "cd78efc3-128a-418f-b6c6-76934d12a3f0",
   "metadata": {},
   "outputs": [
    {
     "data": {
      "image/png": "[encoded data removed]",
      "text/plain": [
       "<Figure size 800x800 with 1 Axes>"
      ]
     },
     "metadata": {},
     "output_type": "display_data"
    }
   ],
   "source": [
    "# je choisis un graphique en camembert pour avoir aussi les parts de marché\n",
    "plt.figure(figsize=(8, 8))\n",
    "plt.pie(\n",
    "    top_produits.values,             \n",
    "    labels=top_produits.index,       \n",
    "    autopct=\"%1.1f%%\",               \n",
    "    startangle=140,\n",
    "    colors=plt.cm.Pastel1.colors     \n",
    ")\n",
    "plt.title(\"Répartition des quantités vendues – Top 5 produits\")\n",
    "plt.show()"
   ]
  },
  {
   "cell_type": "markdown",
   "id": "f538f2fe-984c-4521-8174-35bb9479f501",
   "metadata": {},
   "source": [
    "CONCLUSION: Les produits qui se vendent le plus sont Chocolux Lait Noisettes, suivi de Chocolux Noir 80%, puis Chocolux Noir Fleur de Sel en troisième position.\n",
    "\n",
    "Deux produits se démarquent nettement : le Lait Noisettes et le Noir 80%, qui représentent chacun environ 30 % des ventes du Top 5. Leur part de marché est significativement plus élevée que celle des autres produits, ce qui montre un fort attrait des clients pour ces deux références."
   ]
  },
  {
   "cell_type": "markdown",
   "id": "9141e27a-a41b-4452-a596-b18b70791e93",
   "metadata": {},
   "source": [
    "**9.Identifier les 3 villes les plus performantes en chiffre d’affaires total.**"
   ]
  },
  {
   "cell_type": "code",
   "execution_count": 222,
   "id": "d086aef9-ff81-4670-ac4f-09ec3fbe9102",
   "metadata": {},
   "outputs": [
    {
     "name": "stdout",
     "output_type": "stream",
     "text": [
      "ville\n",
      "Paris        2368.6\n",
      "Lille         919.7\n",
      "Marseille     891.5\n",
      "Name: chiffre_affaires, dtype: float64\n"
     ]
    }
   ],
   "source": [
    "#je regroupe le montant du CA par ville, toujours en orde descendant / j'ai ajouté le observed=true car un avertissement ressortait selon la version de python)\n",
    "top_villes = (\n",
    "    df.groupby(\"ville\", observed=True)[\"chiffre_affaires\"]\n",
    "    .sum()\n",
    "    .sort_values(ascending=False)\n",
    ")\n",
    "print(top_villes.head(3))"
   ]
  },
  {
   "cell_type": "markdown",
   "id": "2010b7ca-01f0-4f3d-9b2e-e2f1018bc18e",
   "metadata": {},
   "source": [
    "CONCLUSION: les 3 villes les plus performantes sont Paris, Marseille et Lille en troisième position."
   ]
  },
  {
   "cell_type": "markdown",
   "id": "68ebbea4-ac58-4897-b0cf-0afc15e5e87c",
   "metadata": {},
   "source": [
    "**10.Calculer la dépense moyenne par client et le nombre de clients ayant dépensé plus de 100 €.**"
   ]
  },
  {
   "cell_type": "code",
   "execution_count": 237,
   "id": "359ad1c1-1a58-4e9b-b463-97d1c528e18e",
   "metadata": {},
   "outputs": [
    {
     "data": {
      "text/plain": [
       "76.86"
      ]
     },
     "execution_count": 237,
     "metadata": {},
     "output_type": "execute_result"
    }
   ],
   "source": [
    "depense_par_client = df.groupby(\"client_id\")[\"chiffre_affaires\"].sum().reset_index() #calcul du CA par client\n",
    "depense_moyenne = round(depense_par_client[\"chiffre_affaires\"].mean(),2) #calcul de la moyenne de depense par client qui est de 76\n",
    "depense_moyenne"
   ]
  },
  {
   "cell_type": "markdown",
   "id": "63ac388f-0f26-462d-9cfd-b72a1b835e9b",
   "metadata": {},
   "source": [
    "conclusion : la dépense moyenne par client est de 76 €"
   ]
  },
  {
   "cell_type": "code",
   "execution_count": 241,
   "id": "0b8cf1a2-95cd-48de-9266-768e0e0d67e2",
   "metadata": {},
   "outputs": [
    {
     "name": "stdout",
     "output_type": "stream",
     "text": [
      "Nombre de clients ayant dépensé plus de 100 € : 27\n"
     ]
    }
   ],
   "source": [
    "nb_clients_100_plus = (depense_par_client[\"chiffre_affaires\"] > 100).sum() #je calcul le nombre de clients ayant dépensé plus de 100 €\n",
    "print(f\"Nombre de clients ayant dépensé plus de 100 € : {nb_clients_100_plus}\")"
   ]
  },
  {
   "cell_type": "markdown",
   "id": "dd93efaf-fd4e-4ecf-870a-4e4fb6b10090",
   "metadata": {},
   "source": [
    " "
   ]
  },
  {
   "cell_type": "markdown",
   "id": "567320dd-5645-4879-a90a-2d3a3e763b95",
   "metadata": {},
   "source": [
    "## <font color=#A52A2A > **EXERCICE 3 - Création d'une fonction d'analyse stratégique**"
   ]
  },
  {
   "cell_type": "markdown",
   "id": "ed4b325b-1d0b-4619-82c1-89d8ef0ed06a",
   "metadata": {},
   "source": [
    "**11.Créer une fonction evaluer_performance(ca, nb_clients) qui retourne :**\n",
    "\n",
    "•Blockbuster si CA ≥ 5000 € et clients ≥ 50\n",
    "\n",
    "•Niche rentable si CA ≥ 5000 € mais clients < 50\n",
    "\n",
    "•Produit prometteur si 1000 € ≤ CA < 5000 € et clients ≥ 20\n",
    "\n",
    "•À retravailler dans tous les autres cas"
   ]
  },
  {
   "cell_type": "code",
   "execution_count": 252,
   "id": "c500b160-57d3-4b7b-a13f-bf512d70a74d",
   "metadata": {},
   "outputs": [],
   "source": [
    "def evaluer_performance(chiffre_affaires, nb_clients):\n",
    "    if chiffre_affaires >= 5000 and nb_clients >= 50:\n",
    "        return \"Blockbuster\"\n",
    "    elif chiffre_affaires >= 5000 and nb_clients < 50:\n",
    "        return \"Niche rentable\"\n",
    "    elif 1000 <= chiffre_affaires < 5000 and nb_clients >= 20:\n",
    "        return \"Produit prometteur\"\n",
    "    else:\n",
    "        return \"À retravailler\" \n",
    "#cette fonctin permet de trier selon les doubles conditions données avec if/and "
   ]
  },
  {
   "cell_type": "markdown",
   "id": "20ad1999-b026-48bd-b618-c8592ce926e4",
   "metadata": {},
   "source": [
    "**12.Calcule le chiffre d’affaires total et le nombre de clients distincts pour chaque produit, puis regroupe ces deux résultats dans un même tableau appelé produit_stats.**"
   ]
  },
  {
   "cell_type": "code",
   "execution_count": 288,
   "id": "48c455ee-1336-4ece-abeb-57c11c581b1c",
   "metadata": {},
   "outputs": [
    {
     "name": "stdout",
     "output_type": "stream",
     "text": [
      "le chiffre d'affaire total par categorie de produit est : nom_produit\n",
      "Chocolux Blanc Vanille         999.0\n",
      "Chocolux Lait Caramel          650.0\n",
      "Chocolux Lait Noisettes       2203.2\n",
      "Chocolux Noir 80%             2321.0\n",
      "Chocolux Noir Fleur De Sel    1512.8\n",
      "Name: chiffre_affaires, dtype: float64\n"
     ]
    }
   ],
   "source": [
    "ca_par_produit = df.groupby(\"nom_produit\")[\"chiffre_affaires\"].sum() #je regroupe les produits par chiffres d'affaires pour avoir le total par categorie\n",
    "print(f\"le chiffre d'affaire total par categorie de produit est : {ca_par_produit}\") #j'utilise des phrase dans le print pour donner une petite phrase sur le résultat"
   ]
  },
  {
   "cell_type": "code",
   "execution_count": 290,
   "id": "c5e6e9c3-2f68-444a-b10d-f3e62d087402",
   "metadata": {},
   "outputs": [
    {
     "name": "stdout",
     "output_type": "stream",
     "text": [
      "le nombre de client total par categorie de produit est de : nom_produit\n",
      "Chocolux Blanc Vanille         69\n",
      "Chocolux Lait Caramel          43\n",
      "Chocolux Lait Noisettes       154\n",
      "Chocolux Noir 80%             149\n",
      "Chocolux Noir Fleur De Sel     85\n",
      "Name: nom_client, dtype: int64\n"
     ]
    }
   ],
   "source": [
    "clients_par_produit = df.groupby(\"nom_produit\")[\"nom_client\"].count() #je regroupe le nombre de client avec count par categorie de produit\n",
    "print(f\"le nombre de client total par categorie de produit est de : {clients_par_produit}\")"
   ]
  },
  {
   "cell_type": "code",
   "execution_count": 330,
   "id": "d132952e-828d-46a5-97af-805ef32ec0a1",
   "metadata": {},
   "outputs": [
    {
     "data": {
      "text/html": [
       "<div>\n",
       "<style scoped>\n",
       "    .dataframe tbody tr th:only-of-type {\n",
       "        vertical-align: middle;\n",
       "    }\n",
       "\n",
       "    .dataframe tbody tr th {\n",
       "        vertical-align: top;\n",
       "    }\n",
       "\n",
       "    .dataframe thead th {\n",
       "        text-align: right;\n",
       "    }\n",
       "</style>\n",
       "<table border=\"1\" class=\"dataframe\">\n",
       "  <thead>\n",
       "    <tr style=\"text-align: right;\">\n",
       "      <th></th>\n",
       "      <th>nom_produit</th>\n",
       "      <th>ca_total</th>\n",
       "      <th>nb_clients</th>\n",
       "    </tr>\n",
       "  </thead>\n",
       "  <tbody>\n",
       "    <tr>\n",
       "      <th>0</th>\n",
       "      <td>Chocolux Blanc Vanille</td>\n",
       "      <td>999.0</td>\n",
       "      <td>69</td>\n",
       "    </tr>\n",
       "    <tr>\n",
       "      <th>1</th>\n",
       "      <td>Chocolux Lait Caramel</td>\n",
       "      <td>650.0</td>\n",
       "      <td>43</td>\n",
       "    </tr>\n",
       "    <tr>\n",
       "      <th>2</th>\n",
       "      <td>Chocolux Lait Noisettes</td>\n",
       "      <td>2203.2</td>\n",
       "      <td>154</td>\n",
       "    </tr>\n",
       "    <tr>\n",
       "      <th>3</th>\n",
       "      <td>Chocolux Noir 80%</td>\n",
       "      <td>2321.0</td>\n",
       "      <td>149</td>\n",
       "    </tr>\n",
       "    <tr>\n",
       "      <th>4</th>\n",
       "      <td>Chocolux Noir Fleur De Sel</td>\n",
       "      <td>1512.8</td>\n",
       "      <td>85</td>\n",
       "    </tr>\n",
       "  </tbody>\n",
       "</table>\n",
       "</div>"
      ],
      "text/plain": [
       "                  nom_produit  ca_total  nb_clients\n",
       "0      Chocolux Blanc Vanille     999.0          69\n",
       "1       Chocolux Lait Caramel     650.0          43\n",
       "2     Chocolux Lait Noisettes    2203.2         154\n",
       "3           Chocolux Noir 80%    2321.0         149\n",
       "4  Chocolux Noir Fleur De Sel    1512.8          85"
      ]
     },
     "execution_count": 330,
     "metadata": {},
     "output_type": "execute_result"
    }
   ],
   "source": [
    "produit_stats = pd.merge(ca_par_produit, clients_par_produit, on=\"nom_produit\") #utilisation de chatgpt pour la mise en tableau .merge \n",
    "produit_stats"
   ]
  },
  {
   "cell_type": "markdown",
   "id": "c5d27b05-c5a7-4a08-8190-c94a11739cb4",
   "metadata": {},
   "source": [
    "CONCLUSION: les 2 catégories avec le plus de client sont les categories qui vendent le plus ."
   ]
  },
  {
   "cell_type": "markdown",
   "id": "f23e5b7d-e7f3-400e-8de9-25d0db5c57a8",
   "metadata": {},
   "source": [
    "**13.Appliquer la fonction evaluer_performance sur chaque ligne pour créer la colonne statut_produit et 14-Afficher le(s) produit(s) à retravailler.**"
   ]
  },
  {
   "cell_type": "code",
   "execution_count": 338,
   "id": "9ac9980d-b44e-4a3f-a5ec-ba9ae7146e27",
   "metadata": {},
   "outputs": [
    {
     "data": {
      "text/html": [
       "<div>\n",
       "<style scoped>\n",
       "    .dataframe tbody tr th:only-of-type {\n",
       "        vertical-align: middle;\n",
       "    }\n",
       "\n",
       "    .dataframe tbody tr th {\n",
       "        vertical-align: top;\n",
       "    }\n",
       "\n",
       "    .dataframe thead th {\n",
       "        text-align: right;\n",
       "    }\n",
       "</style>\n",
       "<table border=\"1\" class=\"dataframe\">\n",
       "  <thead>\n",
       "    <tr style=\"text-align: right;\">\n",
       "      <th></th>\n",
       "      <th>nom_produit</th>\n",
       "      <th>ca_total</th>\n",
       "      <th>nb_clients</th>\n",
       "      <th>statut_produit</th>\n",
       "    </tr>\n",
       "  </thead>\n",
       "  <tbody>\n",
       "    <tr>\n",
       "      <th>0</th>\n",
       "      <td>Chocolux Blanc Vanille</td>\n",
       "      <td>999.0</td>\n",
       "      <td>69</td>\n",
       "      <td>À retravailler</td>\n",
       "    </tr>\n",
       "    <tr>\n",
       "      <th>1</th>\n",
       "      <td>Chocolux Lait Caramel</td>\n",
       "      <td>650.0</td>\n",
       "      <td>43</td>\n",
       "      <td>À retravailler</td>\n",
       "    </tr>\n",
       "    <tr>\n",
       "      <th>2</th>\n",
       "      <td>Chocolux Lait Noisettes</td>\n",
       "      <td>2203.2</td>\n",
       "      <td>154</td>\n",
       "      <td>Produit prometteur</td>\n",
       "    </tr>\n",
       "    <tr>\n",
       "      <th>3</th>\n",
       "      <td>Chocolux Noir 80%</td>\n",
       "      <td>2321.0</td>\n",
       "      <td>149</td>\n",
       "      <td>Produit prometteur</td>\n",
       "    </tr>\n",
       "    <tr>\n",
       "      <th>4</th>\n",
       "      <td>Chocolux Noir Fleur De Sel</td>\n",
       "      <td>1512.8</td>\n",
       "      <td>85</td>\n",
       "      <td>Produit prometteur</td>\n",
       "    </tr>\n",
       "  </tbody>\n",
       "</table>\n",
       "</div>"
      ],
      "text/plain": [
       "                  nom_produit  ca_total  nb_clients      statut_produit\n",
       "0      Chocolux Blanc Vanille     999.0          69      À retravailler\n",
       "1       Chocolux Lait Caramel     650.0          43      À retravailler\n",
       "2     Chocolux Lait Noisettes    2203.2         154  Produit prometteur\n",
       "3           Chocolux Noir 80%    2321.0         149  Produit prometteur\n",
       "4  Chocolux Noir Fleur De Sel    1512.8          85  Produit prometteur"
      ]
     },
     "execution_count": 338,
     "metadata": {},
     "output_type": "execute_result"
    }
   ],
   "source": [
    "#appply permet d'appliquer notre fonction à toutes les lignes avec axis=1\n",
    "produit_stats[\"statut_produit\"] = produit_stats.apply(\n",
    "    lambda row: evaluer_performance(row[\"ca_total\"], row[\"nb_clients\"]),\n",
    "    axis=1)\n",
    "produit_stats"
   ]
  },
  {
   "cell_type": "markdown",
   "id": "9b77c5ba-7f5b-4df4-8f3c-1a60d0098b7e",
   "metadata": {},
   "source": [
    "CONCLUSION: les produits à retravailler sont : le chocolux blanc vanille et le chocolux lait caramel"
   ]
  },
  {
   "cell_type": "markdown",
   "id": "79851cc5-980d-46e5-8d42-b9cd541a2c36",
   "metadata": {},
   "source": [
    "## <font color=#A52A2A > **EXERCICE 4 - Croisement et insight**"
   ]
  },
  {
   "cell_type": "markdown",
   "id": "9a8bfc82-6411-49c8-9ced-6e607d386b17",
   "metadata": {},
   "source": [
    "**15.Calcule le chiffre d’affaires total pour chaque client, trouve les clients qui sont dans les 10 % les plus dépensiers, récupère leurs identifiants, puis affiche leur âge, leur genre et leur ville sans doublons.**"
   ]
  },
  {
   "cell_type": "code",
   "execution_count": 344,
   "id": "153188fe-faf1-45e8-a749-398f3236ba61",
   "metadata": {},
   "outputs": [
    {
     "name": "stdout",
     "output_type": "stream",
     "text": [
      "Clients dans les 10 % les plus dépensiers :\n",
      "    client_id  age genre     ville\n",
      "2        C100   28     F      Lyon\n",
      "11       C117   50     F     Paris\n",
      "27       C130   28     F     Paris\n",
      "28       C100   42     F  Bordeaux\n",
      "57       C153   58     M     Lille\n",
      "..        ...  ...   ...       ...\n",
      "463      C148   58     F     Lille\n",
      "465      C119   31     M      Lyon\n",
      "466      C117   44     M  Toulouse\n",
      "480      C149   27     M     Paris\n",
      "482      C148   43     M     Paris\n",
      "\n",
      "[83 rows x 4 columns]\n"
     ]
    }
   ],
   "source": [
    "# 1. Chiffre d'affaires total par client\n",
    "ca_clients = df.groupby(\"client_id\")[\"chiffre_affaires\"].sum().reset_index()\n",
    "ca_clients.rename(columns={\"chiffre_affaires\": \"ca_total\"}, inplace=True)\n",
    "\n",
    "# 2. Seuil des 10 % les plus dépensiers \n",
    "seuil = ca_clients[\"ca_total\"].quantile(0.9)\n",
    "\n",
    "# 3. Filtrer les clients dépensiers\n",
    "top_clients = ca_clients[ca_clients[\"ca_total\"] >= seuil]\n",
    "\n",
    "# 4. Récupérer leurs identifiants\n",
    "ids_top_clients = top_clients[\"client_id\"]\n",
    "\n",
    "# 5. Infos personnelles sans doublons\n",
    "infos_top_clients = df[df[\"client_id\"].isin(ids_top_clients)][[\"client_id\", \"age\", \"genre\", \"ville\"]].drop_duplicates()\n",
    "\n",
    "# 6. Affichage\n",
    "print(\"Clients dans les 10 % les plus dépensiers :\")\n",
    "print(infos_top_clients)"
   ]
  },
  {
   "cell_type": "markdown",
   "id": "a9eabeb3-b641-4ce8-bbff-ae3ff87994b2",
   "metadata": {},
   "source": [
    "**16.Comparer les volumes de vente selon type_chocolat et genre. (Tableau croisé)**"
   ]
  },
  {
   "cell_type": "code",
   "execution_count": 351,
   "id": "41c9f4c2-9ca9-4f61-8d45-ffd64e7fe6bd",
   "metadata": {},
   "outputs": [
    {
     "name": "stdout",
     "output_type": "stream",
     "text": [
      "Tableau croisé des ventes par type de chocolat et genre :\n",
      "genre            F    M\n",
      "type_chocolat          \n",
      "blanc          108  114\n",
      "lait           245  344\n",
      "noir           376  290\n"
     ]
    }
   ],
   "source": [
    "# Tableau croisé : total des quantités vendues par type de chocolat et genre\n",
    "tableau_croise = pd.pivot_table(\n",
    "    df,\n",
    "    values=\"quantite\",\n",
    "    index=\"type_chocolat\",\n",
    "    columns=\"genre\",\n",
    "    aggfunc=\"sum\",\n",
    "    fill_value=0,  # Remplace les NaN par 0\n",
    "    observed=False\n",
    ")\n",
    "\n",
    "print(\"Tableau croisé des ventes par type de chocolat et genre :\")\n",
    "print(tableau_croise)"
   ]
  },
  {
   "cell_type": "markdown",
   "id": "b10a12c3-0ecb-4010-bebe-15ab03f12793",
   "metadata": {},
   "source": [
    "CONLUSION : Le chocolat noir est le plus populaire chez les femmes avec 376 ventes, il surpasse largement les autres types chez le genre féminin.\n",
    "Les hommes préfèrent le chocolat au lait, c’est la catégorie la plus vendue chez les hommes (344 ventes), devant le noir (290) et loin devant le blanc.\n",
    "Le chocolat blanc est globalement le moins vendu que ce soit chez les femmes ou les hommes, il reste à la traîne (environ 100 ventes pour chaque genre)."
   ]
  },
  {
   "cell_type": "markdown",
   "id": "3b3153b7-6d2a-4031-afcd-b891b675a99a",
   "metadata": {},
   "source": [
    "**17.Crée une fonction nommée tranche_age(age) qui retourne <25, 25-45 ou >45, puis ajoute une colonne tranche_age dans le dataframe. Enfin, affiche le chiffre d’affaires total par ville et par tranche d’âge (tableau croisé).**"
   ]
  },
  {
   "cell_type": "code",
   "execution_count": 355,
   "id": "463f9fb4-627c-4b72-be1f-e6e2728c6fb5",
   "metadata": {},
   "outputs": [],
   "source": [
    "def tranche_age(age):\n",
    "    if age < 25:\n",
    "        return \"<25\"\n",
    "    elif 25 <= age <= 45:\n",
    "        return \"25-45\"\n",
    "    else:\n",
    "        return \">45\"\n",
    "#je créé la fonction tranche d'âge et ajoute la colonne dans le dataframe\n",
    "\n",
    "df[\"tranche_age\"] = df[\"age\"].apply(tranche_age)"
   ]
  },
  {
   "cell_type": "code",
   "execution_count": 357,
   "id": "eff42b54-8704-4ea0-9f10-6359b6b5021d",
   "metadata": {},
   "outputs": [
    {
     "data": {
      "text/html": [
       "<div>\n",
       "<style scoped>\n",
       "    .dataframe tbody tr th:only-of-type {\n",
       "        vertical-align: middle;\n",
       "    }\n",
       "\n",
       "    .dataframe tbody tr th {\n",
       "        vertical-align: top;\n",
       "    }\n",
       "\n",
       "    .dataframe thead th {\n",
       "        text-align: right;\n",
       "    }\n",
       "</style>\n",
       "<table border=\"1\" class=\"dataframe\">\n",
       "  <thead>\n",
       "    <tr style=\"text-align: right;\">\n",
       "      <th></th>\n",
       "      <th>commande_id</th>\n",
       "      <th>client_id</th>\n",
       "      <th>nom_client</th>\n",
       "      <th>age</th>\n",
       "      <th>genre</th>\n",
       "      <th>ville</th>\n",
       "      <th>produit_id</th>\n",
       "      <th>nom_produit</th>\n",
       "      <th>type_chocolat</th>\n",
       "      <th>quantite</th>\n",
       "      <th>prix_unitaire</th>\n",
       "      <th>date_commande</th>\n",
       "      <th>remarques_clients</th>\n",
       "      <th>chiffre_affaires</th>\n",
       "      <th>mois</th>\n",
       "      <th>tranche_age</th>\n",
       "    </tr>\n",
       "  </thead>\n",
       "  <tbody>\n",
       "    <tr>\n",
       "      <th>0</th>\n",
       "      <td>CMD0001</td>\n",
       "      <td>C194</td>\n",
       "      <td>Joseph Torres</td>\n",
       "      <td>24</td>\n",
       "      <td>M</td>\n",
       "      <td>Toulouse</td>\n",
       "      <td>P001</td>\n",
       "      <td>Chocolux Noir 80%</td>\n",
       "      <td>noir</td>\n",
       "      <td>1</td>\n",
       "      <td>5.5</td>\n",
       "      <td>2024-12-30</td>\n",
       "      <td>aucune remarque</td>\n",
       "      <td>5.5</td>\n",
       "      <td>2024-12</td>\n",
       "      <td>&lt;25</td>\n",
       "    </tr>\n",
       "    <tr>\n",
       "      <th>1</th>\n",
       "      <td>CMD0002</td>\n",
       "      <td>C103</td>\n",
       "      <td>Laurence Jacques</td>\n",
       "      <td>53</td>\n",
       "      <td>M</td>\n",
       "      <td>Lille</td>\n",
       "      <td>P004</td>\n",
       "      <td>Chocolux Noir Fleur De Sel</td>\n",
       "      <td>noir</td>\n",
       "      <td>4</td>\n",
       "      <td>6.2</td>\n",
       "      <td>2025-03-19</td>\n",
       "      <td>aucune remarque</td>\n",
       "      <td>24.8</td>\n",
       "      <td>2025-03</td>\n",
       "      <td>&gt;45</td>\n",
       "    </tr>\n",
       "    <tr>\n",
       "      <th>2</th>\n",
       "      <td>CMD0003</td>\n",
       "      <td>C100</td>\n",
       "      <td>Matthieu Aubert</td>\n",
       "      <td>28</td>\n",
       "      <td>F</td>\n",
       "      <td>Lyon</td>\n",
       "      <td>P001</td>\n",
       "      <td>Chocolux Noir 80%</td>\n",
       "      <td>noir</td>\n",
       "      <td>3</td>\n",
       "      <td>5.5</td>\n",
       "      <td>2025-02-13</td>\n",
       "      <td>mauvais</td>\n",
       "      <td>16.5</td>\n",
       "      <td>2025-02</td>\n",
       "      <td>25-45</td>\n",
       "    </tr>\n",
       "    <tr>\n",
       "      <th>3</th>\n",
       "      <td>CMD0004</td>\n",
       "      <td>C144</td>\n",
       "      <td>Alfred Nguyen</td>\n",
       "      <td>56</td>\n",
       "      <td>F</td>\n",
       "      <td>Nantes</td>\n",
       "      <td>P004</td>\n",
       "      <td>Chocolux Noir Fleur De Sel</td>\n",
       "      <td>noir</td>\n",
       "      <td>5</td>\n",
       "      <td>6.2</td>\n",
       "      <td>2025-02-13</td>\n",
       "      <td>aucune remarque</td>\n",
       "      <td>31.0</td>\n",
       "      <td>2025-02</td>\n",
       "      <td>&gt;45</td>\n",
       "    </tr>\n",
       "    <tr>\n",
       "      <th>4</th>\n",
       "      <td>CMD0005</td>\n",
       "      <td>C137</td>\n",
       "      <td>Constance Le Bonnet</td>\n",
       "      <td>58</td>\n",
       "      <td>F</td>\n",
       "      <td>Toulouse</td>\n",
       "      <td>P004</td>\n",
       "      <td>Chocolux Noir Fleur De Sel</td>\n",
       "      <td>noir</td>\n",
       "      <td>1</td>\n",
       "      <td>6.2</td>\n",
       "      <td>2025-03-03</td>\n",
       "      <td>aucune remarque</td>\n",
       "      <td>6.2</td>\n",
       "      <td>2025-03</td>\n",
       "      <td>&gt;45</td>\n",
       "    </tr>\n",
       "  </tbody>\n",
       "</table>\n",
       "</div>"
      ],
      "text/plain": [
       "  commande_id client_id           nom_client  age genre     ville produit_id  \\\n",
       "0     CMD0001      C194        Joseph Torres   24     M  Toulouse       P001   \n",
       "1     CMD0002      C103     Laurence Jacques   53     M     Lille       P004   \n",
       "2     CMD0003      C100      Matthieu Aubert   28     F      Lyon       P001   \n",
       "3     CMD0004      C144        Alfred Nguyen   56     F    Nantes       P004   \n",
       "4     CMD0005      C137  Constance Le Bonnet   58     F  Toulouse       P004   \n",
       "\n",
       "                  nom_produit type_chocolat  quantite  prix_unitaire  \\\n",
       "0           Chocolux Noir 80%          noir         1            5.5   \n",
       "1  Chocolux Noir Fleur De Sel          noir         4            6.2   \n",
       "2           Chocolux Noir 80%          noir         3            5.5   \n",
       "3  Chocolux Noir Fleur De Sel          noir         5            6.2   \n",
       "4  Chocolux Noir Fleur De Sel          noir         1            6.2   \n",
       "\n",
       "  date_commande remarques_clients  chiffre_affaires     mois tranche_age  \n",
       "0    2024-12-30   aucune remarque               5.5  2024-12         <25  \n",
       "1    2025-03-19   aucune remarque              24.8  2025-03         >45  \n",
       "2    2025-02-13           mauvais              16.5  2025-02       25-45  \n",
       "3    2025-02-13   aucune remarque              31.0  2025-02         >45  \n",
       "4    2025-03-03   aucune remarque               6.2  2025-03         >45  "
      ]
     },
     "execution_count": 357,
     "metadata": {},
     "output_type": "execute_result"
    }
   ],
   "source": [
    "df.head()"
   ]
  },
  {
   "cell_type": "code",
   "execution_count": 361,
   "id": "3d07fb9b-a20f-4506-b99c-bde26f76e028",
   "metadata": {},
   "outputs": [
    {
     "name": "stdout",
     "output_type": "stream",
     "text": [
      "Chiffre d’affaires total par ville et tranche d’âge :\n",
      "tranche_age   25-45    <25    >45\n",
      "ville                            \n",
      "Bordeaux      234.3  111.1  224.4\n",
      "Lille         311.4  256.0  352.3\n",
      "Lyon          331.9  143.9  348.9\n",
      "Marseille     353.0  105.2  433.3\n",
      "Nantes        426.9  104.7  340.2\n",
      "Nice          243.1  170.8  340.8\n",
      "Paris        1025.4  437.2  906.0\n",
      "Toulouse      231.4   32.2  221.6\n"
     ]
    }
   ],
   "source": [
    "#création du tableau croisé dynamique\n",
    "tableau_ca = pd.pivot_table(\n",
    "    df,\n",
    "    values=\"chiffre_affaires\",\n",
    "    index=\"ville\",\n",
    "    columns=\"tranche_age\",\n",
    "    aggfunc=\"sum\",\n",
    "    fill_value=0,\n",
    "    observed=False \n",
    ")\n",
    "print(\"Chiffre d’affaires total par ville et tranche d’âge :\")\n",
    "print(tableau_ca)"
   ]
  },
  {
   "cell_type": "code",
   "execution_count": 365,
   "id": "6fc3baf1-9a4e-4da2-aac3-3e4fe07a994a",
   "metadata": {},
   "outputs": [
    {
     "data": {
      "text/plain": [
       "<function matplotlib.pyplot.tight_layout(*, pad: 'float' = 1.08, h_pad: 'float | None' = None, w_pad: 'float | None' = None, rect: 'tuple[float, float, float, float] | None' = None) -> 'None'>"
      ]
     },
     "execution_count": 365,
     "metadata": {},
     "output_type": "execute_result"
    },
    {
     "data": {
      "image/png": "[encoded data removed]",
      "text/plain": [
       "<Figure size 1000x600 with 2 Axes>"
      ]
     },
     "metadata": {},
     "output_type": "display_data"
    }
   ],
   "source": [
    "import seaborn as sns\n",
    "import matplotlib.pyplot as plt\n",
    "\n",
    "# On garde le tableau croisé créé précédemment\n",
    "tableau_ca = pd.pivot_table(\n",
    "    df,\n",
    "    values=\"chiffre_affaires\",\n",
    "    index=\"ville\",\n",
    "    columns=\"tranche_age\",\n",
    "    aggfunc=\"sum\",\n",
    "    fill_value=0,\n",
    "    observed=False\n",
    ")\n",
    "\n",
    "# Taille de la figure\n",
    "plt.figure(figsize=(10, 6))\n",
    "\n",
    "# Création de la heatmap\n",
    "sns.heatmap(tableau_ca, annot=True, fmt=\".0f\", cmap=\"YlGnBu\")\n",
    "\n",
    "# Titres\n",
    "plt.title(\"Chiffre d’affaires par ville et tranche d’âge\")\n",
    "plt.xlabel(\"Tranche d’âge\")\n",
    "plt.ylabel(\"Ville\")\n",
    "\n",
    "plt.tight_layout\n",
    "#chatgpt m a proposé un heatmap pourvisualiser les resultat -je ne connaissais pas mais je trouve cela très parlant visuellement pour ce genre de données"
   ]
  },
  {
   "cell_type": "markdown",
   "id": "f7c6558f-c2a1-436d-8470-c4457208ac34",
   "metadata": {},
   "source": [
    "Conclusion: il semble que la ville la plus performante chez les 25-45 ans et les plus de 45 ans soit Paris. elle l est aussi pur la tranche d'âge e 25-45 ans mais est suivi de près par marseille et nantes. "
   ]
  },
  {
   "cell_type": "markdown",
   "id": "00d84642-fa7e-4858-b10f-c80dd40affa7",
   "metadata": {},
   "source": [
    "**18.Calculer l’âge moyen des clients par type de chocolat préféré.**"
   ]
  },
  {
   "cell_type": "code",
   "execution_count": 371,
   "id": "a254387d-602f-41d7-80b1-5772679a8610",
   "metadata": {},
   "outputs": [
    {
     "name": "stdout",
     "output_type": "stream",
     "text": [
      "Âge moyen des clients par type de chocolat préféré :\n",
      "type_chocolat\n",
      "blanc    42.1\n",
      "lait     41.2\n",
      "noir     41.8\n",
      "Name: age, dtype: float64\n"
     ]
    }
   ],
   "source": [
    "age_moyen_par_chocolat = df.groupby(\"type_chocolat\", observed=False)[\"age\"].mean().round(1) #je calcul la moyenne demandée et arrondi à 1 chiffre apres la virgule\n",
    "print(\"Âge moyen des clients par type de chocolat préféré :\")\n",
    "print(age_moyen_par_chocolat)"
   ]
  },
  {
   "cell_type": "markdown",
   "id": "97106ac4-ca7c-45a2-8b53-4d155ac79fa8",
   "metadata": {},
   "source": [
    "conclusion: la moyenne d'âge des consommateurs tourne autour de 41-42 ans"
   ]
  },
  {
   "cell_type": "markdown",
   "id": "2813d901-c51f-4efc-810a-b05a4cd4cb52",
   "metadata": {},
   "source": [
    "**19.Identifier les produits préférés selon les tranches d’âge : <25 ans, 25-45, >45 ans.**"
   ]
  },
  {
   "cell_type": "code",
   "execution_count": 376,
   "id": "a2af3597-10e6-4977-a32e-96a36ff2422d",
   "metadata": {},
   "outputs": [
    {
     "name": "stdout",
     "output_type": "stream",
     "text": [
      "Produits préférés selon les tranches d’âge :\n",
      "   tranche_age              nom_produit  quantite\n",
      "2        25-45  Chocolux Lait Noisettes       189\n",
      "12         >45  Chocolux Lait Noisettes       181\n",
      "7          <25  Chocolux Lait Noisettes        89\n"
     ]
    }
   ],
   "source": [
    "# je regroupe les ventes par produit et tranche d'âge\n",
    "ventes_par_tranche = df.groupby([\"tranche_age\", \"nom_produit\"])[\"quantite\"].sum().reset_index()\n",
    "\n",
    "# Pour chaque tranche d'âge, on garde le produit avec le max de quantités vendues\n",
    "produits_pref = ventes_par_tranche.sort_values(\"quantite\", ascending=False).drop_duplicates(\"tranche_age\") #on utilise drop duplicates pour garder que le produit preferé dans chaque tranche \n",
    "\n",
    "print(\"Produits préférés selon les tranches d’âge :\")\n",
    "print(produits_pref[[\"tranche_age\", \"nom_produit\", \"quantite\"]])"
   ]
  },
  {
   "cell_type": "markdown",
   "id": "585ee948-3be5-4a15-8f66-3c995c02c85b",
   "metadata": {},
   "source": [
    "CONCLUSION: le produit préféré des 25-45 ans, plus de 45 ans et moins de 25 ans est le chocolux noisette avec 189 ventes sur la periode "
   ]
  },
  {
   "cell_type": "markdown",
   "id": "159508e6-e4c3-413c-a86c-bd45527f2f61",
   "metadata": {},
   "source": [
    "## <font color=#A52A2A > **EXERCICE 5 - Analyse qualitative**"
   ]
  },
  {
   "cell_type": "markdown",
   "id": "4327e019-4e1a-4725-b55d-83a888f3e32a",
   "metadata": {},
   "source": [
    "**20.Créer une fonction contient_plainte() qui détecte si un texte contient un mot-clé parmi : \"mauvais\", \"fondu\", \"cassé\", \"livraison lente\". Appliquer cette fonction à la colonne remarques_clients pour créer une nouvelle colonne plainte contenant True ou False.**"
   ]
  },
  {
   "cell_type": "code",
   "execution_count": 390,
   "id": "27efccc4-de3c-4510-b3b4-2f87387cd2e5",
   "metadata": {},
   "outputs": [],
   "source": [
    "#fonction corrigée avec chatgpt car j'étais coincée\n",
    "def contient_plainte(texte):\n",
    "    if isinstance(texte, str):\n",
    "        texte = texte.lower()  # rendre insensible à la casse\n",
    "        mots_cles = [\"mauvais\", \"fondu\", \"cassé\", \"livraison lente\"]\n",
    "        return any(mot in texte for mot in mots_cles)\n",
    "    return False\n",
    "\n",
    "df[\"plainte\"] = df[\"remarques_clients\"].apply(contient_plainte) #j applique la fonction à la colonne plainte"
   ]
  },
  {
   "cell_type": "code",
   "execution_count": 388,
   "id": "05fc9f6d-1f8f-4cb7-95dc-e506ee0c5d63",
   "metadata": {},
   "outputs": [
    {
     "data": {
      "text/html": [
       "<div>\n",
       "<style scoped>\n",
       "    .dataframe tbody tr th:only-of-type {\n",
       "        vertical-align: middle;\n",
       "    }\n",
       "\n",
       "    .dataframe tbody tr th {\n",
       "        vertical-align: top;\n",
       "    }\n",
       "\n",
       "    .dataframe thead th {\n",
       "        text-align: right;\n",
       "    }\n",
       "</style>\n",
       "<table border=\"1\" class=\"dataframe\">\n",
       "  <thead>\n",
       "    <tr style=\"text-align: right;\">\n",
       "      <th></th>\n",
       "      <th>commande_id</th>\n",
       "      <th>client_id</th>\n",
       "      <th>nom_client</th>\n",
       "      <th>age</th>\n",
       "      <th>genre</th>\n",
       "      <th>ville</th>\n",
       "      <th>produit_id</th>\n",
       "      <th>nom_produit</th>\n",
       "      <th>type_chocolat</th>\n",
       "      <th>quantite</th>\n",
       "      <th>prix_unitaire</th>\n",
       "      <th>date_commande</th>\n",
       "      <th>remarques_clients</th>\n",
       "      <th>chiffre_affaires</th>\n",
       "      <th>mois</th>\n",
       "      <th>tranche_age</th>\n",
       "    </tr>\n",
       "  </thead>\n",
       "  <tbody>\n",
       "    <tr>\n",
       "      <th>0</th>\n",
       "      <td>CMD0001</td>\n",
       "      <td>C194</td>\n",
       "      <td>Joseph Torres</td>\n",
       "      <td>24</td>\n",
       "      <td>M</td>\n",
       "      <td>Toulouse</td>\n",
       "      <td>P001</td>\n",
       "      <td>Chocolux Noir 80%</td>\n",
       "      <td>noir</td>\n",
       "      <td>1</td>\n",
       "      <td>5.5</td>\n",
       "      <td>2024-12-30</td>\n",
       "      <td>aucune remarque</td>\n",
       "      <td>5.5</td>\n",
       "      <td>2024-12</td>\n",
       "      <td>&lt;25</td>\n",
       "    </tr>\n",
       "    <tr>\n",
       "      <th>1</th>\n",
       "      <td>CMD0002</td>\n",
       "      <td>C103</td>\n",
       "      <td>Laurence Jacques</td>\n",
       "      <td>53</td>\n",
       "      <td>M</td>\n",
       "      <td>Lille</td>\n",
       "      <td>P004</td>\n",
       "      <td>Chocolux Noir Fleur De Sel</td>\n",
       "      <td>noir</td>\n",
       "      <td>4</td>\n",
       "      <td>6.2</td>\n",
       "      <td>2025-03-19</td>\n",
       "      <td>aucune remarque</td>\n",
       "      <td>24.8</td>\n",
       "      <td>2025-03</td>\n",
       "      <td>&gt;45</td>\n",
       "    </tr>\n",
       "    <tr>\n",
       "      <th>2</th>\n",
       "      <td>CMD0003</td>\n",
       "      <td>C100</td>\n",
       "      <td>Matthieu Aubert</td>\n",
       "      <td>28</td>\n",
       "      <td>F</td>\n",
       "      <td>Lyon</td>\n",
       "      <td>P001</td>\n",
       "      <td>Chocolux Noir 80%</td>\n",
       "      <td>noir</td>\n",
       "      <td>3</td>\n",
       "      <td>5.5</td>\n",
       "      <td>2025-02-13</td>\n",
       "      <td>mauvais</td>\n",
       "      <td>16.5</td>\n",
       "      <td>2025-02</td>\n",
       "      <td>25-45</td>\n",
       "    </tr>\n",
       "    <tr>\n",
       "      <th>3</th>\n",
       "      <td>CMD0004</td>\n",
       "      <td>C144</td>\n",
       "      <td>Alfred Nguyen</td>\n",
       "      <td>56</td>\n",
       "      <td>F</td>\n",
       "      <td>Nantes</td>\n",
       "      <td>P004</td>\n",
       "      <td>Chocolux Noir Fleur De Sel</td>\n",
       "      <td>noir</td>\n",
       "      <td>5</td>\n",
       "      <td>6.2</td>\n",
       "      <td>2025-02-13</td>\n",
       "      <td>aucune remarque</td>\n",
       "      <td>31.0</td>\n",
       "      <td>2025-02</td>\n",
       "      <td>&gt;45</td>\n",
       "    </tr>\n",
       "    <tr>\n",
       "      <th>4</th>\n",
       "      <td>CMD0005</td>\n",
       "      <td>C137</td>\n",
       "      <td>Constance Le Bonnet</td>\n",
       "      <td>58</td>\n",
       "      <td>F</td>\n",
       "      <td>Toulouse</td>\n",
       "      <td>P004</td>\n",
       "      <td>Chocolux Noir Fleur De Sel</td>\n",
       "      <td>noir</td>\n",
       "      <td>1</td>\n",
       "      <td>6.2</td>\n",
       "      <td>2025-03-03</td>\n",
       "      <td>aucune remarque</td>\n",
       "      <td>6.2</td>\n",
       "      <td>2025-03</td>\n",
       "      <td>&gt;45</td>\n",
       "    </tr>\n",
       "  </tbody>\n",
       "</table>\n",
       "</div>"
      ],
      "text/plain": [
       "  commande_id client_id           nom_client  age genre     ville produit_id  \\\n",
       "0     CMD0001      C194        Joseph Torres   24     M  Toulouse       P001   \n",
       "1     CMD0002      C103     Laurence Jacques   53     M     Lille       P004   \n",
       "2     CMD0003      C100      Matthieu Aubert   28     F      Lyon       P001   \n",
       "3     CMD0004      C144        Alfred Nguyen   56     F    Nantes       P004   \n",
       "4     CMD0005      C137  Constance Le Bonnet   58     F  Toulouse       P004   \n",
       "\n",
       "                  nom_produit type_chocolat  quantite  prix_unitaire  \\\n",
       "0           Chocolux Noir 80%          noir         1            5.5   \n",
       "1  Chocolux Noir Fleur De Sel          noir         4            6.2   \n",
       "2           Chocolux Noir 80%          noir         3            5.5   \n",
       "3  Chocolux Noir Fleur De Sel          noir         5            6.2   \n",
       "4  Chocolux Noir Fleur De Sel          noir         1            6.2   \n",
       "\n",
       "  date_commande remarques_clients  chiffre_affaires     mois tranche_age  \n",
       "0    2024-12-30   aucune remarque               5.5  2024-12         <25  \n",
       "1    2025-03-19   aucune remarque              24.8  2025-03         >45  \n",
       "2    2025-02-13           mauvais              16.5  2025-02       25-45  \n",
       "3    2025-02-13   aucune remarque              31.0  2025-02         >45  \n",
       "4    2025-03-03   aucune remarque               6.2  2025-03         >45  "
      ]
     },
     "execution_count": 388,
     "metadata": {},
     "output_type": "execute_result"
    }
   ],
   "source": [
    "\n",
    "df.head()"
   ]
  },
  {
   "cell_type": "code",
   "execution_count": 394,
   "id": "97d154cd-ae36-4a36-8189-ea3eb246501e",
   "metadata": {},
   "outputs": [
    {
     "name": "stdout",
     "output_type": "stream",
     "text": [
      "<class 'pandas.core.frame.DataFrame'>\n",
      "Index: 500 entries, 0 to 500\n",
      "Data columns (total 17 columns):\n",
      " #   Column             Non-Null Count  Dtype         \n",
      "---  ------             --------------  -----         \n",
      " 0   commande_id        500 non-null    object        \n",
      " 1   client_id          500 non-null    object        \n",
      " 2   nom_client         500 non-null    object        \n",
      " 3   age                500 non-null    int64         \n",
      " 4   genre              500 non-null    category      \n",
      " 5   ville              500 non-null    category      \n",
      " 6   produit_id         500 non-null    object        \n",
      " 7   nom_produit        500 non-null    object        \n",
      " 8   type_chocolat      500 non-null    category      \n",
      " 9   quantite           500 non-null    int64         \n",
      " 10  prix_unitaire      500 non-null    float64       \n",
      " 11  date_commande      500 non-null    datetime64[ns]\n",
      " 12  remarques_clients  500 non-null    object        \n",
      " 13  chiffre_affaires   500 non-null    float64       \n",
      " 14  mois               500 non-null    object        \n",
      " 15  tranche_age        500 non-null    object        \n",
      " 16  plainte            500 non-null    bool          \n",
      "dtypes: bool(1), category(3), datetime64[ns](1), float64(2), int64(2), object(8)\n",
      "memory usage: 57.2+ KB\n"
     ]
    }
   ],
   "source": [
    "df.info()"
   ]
  },
  {
   "cell_type": "markdown",
   "id": "50e37e1b-d113-43b2-b123-f76e06b936a9",
   "metadata": {},
   "source": [
    "**21.Identifier les produits les plus concernés.**"
   ]
  },
  {
   "cell_type": "code",
   "execution_count": 415,
   "id": "ebbbe7f3-64cc-4912-808b-2df49777ff83",
   "metadata": {},
   "outputs": [
    {
     "name": "stdout",
     "output_type": "stream",
     "text": [
      "Produits les plus concernés par des plaintes :\n",
      "nom_produit\n",
      "Chocolux Noir 80%             31\n",
      "Chocolux Lait Noisettes        9\n",
      "Chocolux Noir Fleur De Sel     4\n",
      "Chocolux Blanc Vanille         3\n",
      "dtype: int64\n"
     ]
    }
   ],
   "source": [
    "#size a ete rajouté car dans cette configuration difficle d utiliser count\n",
    "produits_avec_plaintes = (\n",
    "    df[df[\"plainte\"] == True]\n",
    "    .groupby(\"nom_produit\")\n",
    "    .size()\n",
    "    .sort_values(ascending=False)\n",
    ")\n",
    "\n",
    "print(\"Produits les plus concernés par des plaintes :\")\n",
    "print(produits_avec_plaintes)"
   ]
  },
  {
   "cell_type": "markdown",
   "id": "8e09eb5d-fd91-46fc-827e-4d6eee26ef8e",
   "metadata": {},
   "source": [
    "conclusion : le produits le plus concerné par les plaintes est le chocolat noir 80% "
   ]
  },
  {
   "cell_type": "markdown",
   "id": "7e6ca340-2a0f-4059-bbb6-ef609b9d8c91",
   "metadata": {},
   "source": [
    "**22.Créer un graphique camembert des 4 produits les plus cités.**"
   ]
  },
  {
   "cell_type": "code",
   "execution_count": 427,
   "id": "fa428c41-7d15-4b47-9d1e-9c56702f9ee6",
   "metadata": {},
   "outputs": [
    {
     "data": {
      "image/png": "[encoded data removed]",
      "text/plain": [
       "<Figure size 800x800 with 1 Axes>"
      ]
     },
     "metadata": {},
     "output_type": "display_data"
    }
   ],
   "source": [
    "produits_avec_plaintes = (\n",
    "    df[df[\"plainte\"] == True]\n",
    "    .groupby(\"nom_produit\")\n",
    "    .size()\n",
    "    .sort_values(ascending=False)\n",
    "    .head(4) ) # je reprend ma formule mais limite les resultat à 4 avec head pour le graphique\n",
    "\n",
    "\n",
    "# graphique Camembert\n",
    "plt.figure(figsize=(8, 8))\n",
    "plt.pie(\n",
    "    produits_avec_plaintes,\n",
    "    labels=produits_avec_plaintes.index,\n",
    "    autopct=\"%1.1f%%\",\n",
    "    startangle=140,\n",
    "    colors=plt.cm.Set3.colors  # Palette douce et lisible demandée à chatgpt\n",
    ")\n",
    "\n",
    "plt.title(\"Top 4 des produits les plus cités dans les plaintes\")\n",
    "plt.show()"
   ]
  },
  {
   "cell_type": "markdown",
   "id": "0b298320-6a72-419d-9668-b8db72c063e0",
   "metadata": {},
   "source": [
    "**23.Lister les villes avec le plus de plaintes par rapport aux commandes.**"
   ]
  },
  {
   "cell_type": "code",
   "execution_count": 438,
   "id": "744f1808-c579-4b6b-8cd2-c8ca3ba505a8",
   "metadata": {},
   "outputs": [
    {
     "name": "stdout",
     "output_type": "stream",
     "text": [
      "Taux de plaintes par ville (% des commandes) :\n",
      "ville\n",
      "Bordeaux     19.4\n",
      "Lille        18.0\n",
      "Paris        10.7\n",
      "Lyon          9.3\n",
      "Marseille     7.3\n",
      "Nice          4.2\n",
      "Nantes        3.4\n",
      "Toulouse      NaN\n",
      "dtype: float64\n"
     ]
    }
   ],
   "source": [
    "# Nombre de plaintes par ville \n",
    "plaintes_par_ville = df[df[\"plainte\"] == True].groupby(\"ville\",observed=True).size()\n",
    "\n",
    "# Nombre total de commandes par ville\n",
    "commandes_par_ville = df.groupby(\"ville\",observed=True).size()\n",
    "\n",
    "# Taux de plaintes (%) trier par odre décroissant\n",
    "taux_plainte_par_ville = (plaintes_par_ville / commandes_par_ville * 100).round(1)\n",
    "taux_plainte_par_ville = taux_plainte_par_ville.sort_values(ascending=False)\n",
    "\n",
    "\n",
    "print(\"Taux de plaintes par ville (% des commandes) :\")\n",
    "print(taux_plainte_par_ville)"
   ]
  },
  {
   "cell_type": "markdown",
   "id": "e958d20b-0678-4d07-94ad-cf129c98e0ea",
   "metadata": {},
   "source": [
    "CONCLUSION: les villes avec le plus de plaintes sont Bordeaux et Lille."
   ]
  },
  {
   "cell_type": "markdown",
   "id": "8fa6e3de-c0fa-4738-ad65-a015752ab036",
   "metadata": {},
   "source": [
    "## <font color=#A52A2A > **QUESTION FINALE - RECOMMANDATIONS STRATEGIQUES**"
   ]
  },
  {
   "cell_type": "markdown",
   "id": "e865dbc2-4691-41ad-b095-1dd6b102da31",
   "metadata": {},
   "source": [
    "📝 **Recommandations stratégiques à destination de la direction de Chocolux**\n",
    "1. 🏆 Produits à valoriser\n",
    "Les deux produits phares sont Chocolux Lait Noisettes et Chocolux Noir 80%, représentant chacun environ 30 % des ventes du Top 5. Leur succès est constant auprès de toutes les tranches d’âge, et particulièrement chez les 25–45 ans.\n",
    "Action recommandée :\n",
    "\n",
    "Mettre en avant ces deux produits dans les campagnes marketing (pubs, packaging, promotions)\n",
    "\n",
    "Décliner ces recettes en éditions spéciales (ex : version « Saint-Valentin » ou « Noël »)\n",
    "\n",
    "Fidéliser les acheteurs de ces produits via des offres exclusives\n",
    "\n",
    "2. 🛠️ **Produits à retravailler ou repositionner**\n",
    "Les ventes des produits Chocolux Blanc Vanille et Lait Caramel sont nettement en retrait. De plus, le chocolat blanc est globalement moins populaire, tous genres confondus.\n",
    "Action recommandée :\n",
    "\n",
    "Revoir la recette ou le positionnement (ex. : passer à une version premium ou gourmande)\n",
    "\n",
    "Mieux cibler le public (ex. : enfants, jeunes adultes) ou tester en édition limitée\n",
    "\n",
    "Supprimer ou reformuler les produits peu vendus pour réduire les coûts\n",
    "\n",
    "3. 🎯 **Villes et tranches d’âge à cibler en priorité**\n",
    "Paris, Marseille et Lille sont les villes les plus performantes en chiffre d’affaires.\n",
    "La tranche d’âge 25-45 ans est la plus active en achat, avec un panier moyen de 76 €.\n",
    "Action recommandée :\n",
    "\n",
    "Concentrer les efforts commerciaux (événements, publicité locale) dans ces villes\n",
    "\n",
    "Adapter les communications à cette tranche d’âge (style, canaux de diffusion, valeurs)\n",
    "\n",
    "4. 💎 **Fidéliser les clients à fort potentiel**\n",
    "27 clients ont dépensé plus de 100 €, ce qui en fait une cible très précieuse.\n",
    "Action recommandée :\n",
    "\n",
    "Lancer un programme fidélité ou un club premium avec avantages\n",
    "\n",
    "Offrir des codes promo, échantillons ou accès anticipé à certaines collections\n",
    "\n",
    "Mettre en place un suivi personnalisé ou une newsletter VIP\n",
    "\n",
    "5. ❗ **Réduction des plaintes et amélioration de la satisfaction**\n",
    "Le produit Chocolux Noir 80% est celui qui génère le plus de plaintes (31 sur 47 signalées), suivi du Lait Noisettes. Les remarques concernent principalement des problèmes de produits fondus, cassés ou de livraison lente.\n",
    "Les villes de Bordeaux et Lille sont les plus concernées.\n",
    "Action recommandée :\n",
    "\n",
    "Améliorer l’emballage pour mieux protéger les produits fragiles\n",
    "\n",
    "Revoir les partenaires logistiques ou les délais de livraison dans certaines régions\n",
    "\n",
    "Ajouter un formulaire de feedback pour réagir plus vite aux problèmes\n",
    "\n",
    "📅 **Autre point notable**\n",
    "Une hausse significative du chiffre d'affaires a été observée entre le 8 et le 15 février 2025, probablement liée à la Saint-Valentin.\n",
    "Action recommandée :\n",
    "\n",
    "Capitaliser sur cet événement chaque année avec une offre spéciale\n",
    "\n",
    "Mettre en avant les produits best-sellers sous forme de coffrets thématiques\n",
    "\n",
    "💡 **Conclusion générale** : Chocolux dispose d'une base solide avec des produits leaders et un public bien identifié. En capitalisant sur ses best-sellers, en améliorant la qualité de livraison et en fidélisant ses clients les plus rentables, l’entreprise peut renforcer sa croissance tout en améliorant l’expérience client.\n",
    "\n"
   ]
  },
  {
   "cell_type": "markdown",
   "id": "7531a1aa-46d6-485a-9442-45a1795044e1",
   "metadata": {},
   "source": []
  }
 ],
 "metadata": {
  "kernelspec": {
   "display_name": "Python [conda env:base] *",
   "language": "python",
   "name": "conda-base-py"
  },
  "language_info": {
   "codemirror_mode": {
    "name": "ipython",
    "version": 3
   },
   "file_extension": ".py",
   "mimetype": "text/x-python",
   "name": "python",
   "nbconvert_exporter": "python",
   "pygments_lexer": "ipython3",
   "version": "3.12.7"
  }
 },
 "nbformat": 4,
 "nbformat_minor": 5
}
